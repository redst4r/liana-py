{
 "cells": [
  {
   "cell_type": "code",
   "execution_count": null,
   "metadata": {},
   "outputs": [],
   "source": [
    "import os\n",
    "import numpy as np\n",
    "import pandas as pd\n",
    "import scanpy as sc\n",
    "import squidpy as sq\n",
    "\n",
    "from scipy.spatial import cKDTree"
   ]
  },
  {
   "cell_type": "code",
   "execution_count": null,
   "metadata": {},
   "outputs": [],
   "source": [
    "import liana as li"
   ]
  },
  {
   "cell_type": "code",
   "execution_count": null,
   "metadata": {},
   "outputs": [],
   "source": []
  },
  {
   "cell_type": "code",
   "execution_count": null,
   "metadata": {},
   "outputs": [],
   "source": [
    "# slide names and x, y offsets\n",
    "slides = {'A1':[3.5, 18],\n",
    "          'B1':[3, 10.5],\n",
    "          'C1':[1, 13.5],}"
   ]
  },
  {
   "cell_type": "code",
   "execution_count": null,
   "metadata": {},
   "outputs": [],
   "source": []
  },
  {
   "cell_type": "code",
   "execution_count": null,
   "metadata": {},
   "outputs": [],
   "source": [
    "## load slide\n",
    "slide = \"B1\"\n",
    "exp = \"V11L12-109\" # V11T17-102 V11L12-109 V11T16-085\n",
    "slide_path = f\"data/VicariEtAl/sma/{exp}/{exp}_{slide}/output_data\"\n",
    "rna_path = slide_path + f\"/{exp}_{slide}_RNA/outs/\""
   ]
  },
  {
   "cell_type": "code",
   "execution_count": null,
   "metadata": {},
   "outputs": [],
   "source": [
    "rna = sq.read.visium(rna_path, counts_file=\"filtered_feature_bc_matrix.h5\")\n",
    "rna.obs[['x', 'y']] = rna.obsm['spatial']\n",
    "\n",
    "msi_raw = pd.read_csv(slide_path + f\"/{exp}_{slide}_MSI/{exp}_{slide}.Visium.FMP.220826_smamsi.csv\")\n"
   ]
  },
  {
   "cell_type": "code",
   "execution_count": null,
   "metadata": {},
   "outputs": [],
   "source": [
    "# set x and y columns as index, concat with _ as separator\n",
    "msi_raw.index = msi_raw[['x', 'y']].astype(str).agg('_'.join, axis=1)"
   ]
  },
  {
   "cell_type": "code",
   "execution_count": null,
   "metadata": {},
   "outputs": [],
   "source": [
    "# Only for mouse\n",
    "lesion = pd.read_csv(rna_path + \"/lesion.csv\").set_index(\"Barcode\")\n",
    "region = pd.read_csv(rna_path +  \"/region.csv\").set_index(\"Barcode\")\n",
    "rna.obs = rna.obs.join(lesion)\n",
    "rna.obs = rna.obs.join(region)"
   ]
  },
  {
   "cell_type": "code",
   "execution_count": null,
   "metadata": {},
   "outputs": [],
   "source": []
  },
  {
   "attachments": {},
   "cell_type": "markdown",
   "metadata": {},
   "source": [
    "MSI"
   ]
  },
  {
   "cell_type": "code",
   "execution_count": null,
   "metadata": {},
   "outputs": [],
   "source": [
    "msi = msi_raw.copy().drop(['x', 'y'], axis=1)\n",
    "msi = sc.AnnData(X=msi.values,\n",
    "                 obs=pd.DataFrame(index=msi.index),\n",
    "                 var=pd.DataFrame(index=msi.columns))"
   ]
  },
  {
   "cell_type": "code",
   "execution_count": null,
   "metadata": {},
   "outputs": [],
   "source": [
    "# copy raw intensities\n",
    "msi.layers['raw'] = msi.X\n",
    "\n",
    "# normalize and cluster\n",
    "sc.pp.normalize_total(msi, target_sum=1e4)\n",
    "sc.pp.log1p(msi)\n",
    "sc.pp.scale(msi)\n",
    "sc.pp.pca(msi)\n",
    "sc.pp.neighbors(msi, n_neighbors=10, n_pcs=20)\n",
    "sc.tl.leiden(msi, resolution=0.00001)"
   ]
  },
  {
   "cell_type": "code",
   "execution_count": null,
   "metadata": {},
   "outputs": [],
   "source": []
  },
  {
   "cell_type": "code",
   "execution_count": null,
   "metadata": {},
   "outputs": [],
   "source": [
    "# get positions; NOTE: x and y are mirrored in the msi data\n",
    "positions = msi_raw[['y', 'x']].values.copy()\n",
    "\n",
    "# estimate scaling factor\n",
    "sfactor = rna.uns['spatial'][f\"{exp}_{slide}\"]['scalefactors']['fiducial_diameter_fullres']\n",
    "sfactor"
   ]
  },
  {
   "cell_type": "code",
   "execution_count": null,
   "metadata": {},
   "outputs": [],
   "source": [
    "# inverse y\n",
    "positions[:, 0] = (positions[:, 0].max() - positions[:, 0])\n",
    "# offset\n",
    "x_offset = slides[slide][0]\n",
    "y_offset = slides[slide][1]\n",
    "\n",
    "positions[:, 0] = positions[:, 0] + x_offset\n",
    "positions[:, 1] = positions[:, 1] + y_offset\n",
    "\n",
    "msi.obs[['array_row', 'array_col']] = positions\n",
    "\n",
    "# scale\n",
    "positions = positions * sfactor * 0.95"
   ]
  },
  {
   "cell_type": "code",
   "execution_count": null,
   "metadata": {},
   "outputs": [],
   "source": [
    "msi.uns = rna.uns.copy()"
   ]
  },
  {
   "cell_type": "code",
   "execution_count": null,
   "metadata": {},
   "outputs": [],
   "source": [
    "msi.obsm['spatial'] = positions\n",
    "msi.obs[['x', 'y']] = positions"
   ]
  },
  {
   "cell_type": "code",
   "execution_count": null,
   "metadata": {},
   "outputs": [],
   "source": [
    "# remove cells that are not in the tissue\n",
    "msi = msi[msi.obs['leiden'] != '1', :]"
   ]
  },
  {
   "cell_type": "code",
   "execution_count": null,
   "metadata": {},
   "outputs": [],
   "source": [
    "sc.pl.spatial(msi, color=\"leiden\")"
   ]
  },
  {
   "cell_type": "code",
   "execution_count": null,
   "metadata": {},
   "outputs": [],
   "source": [
    "import muon as mu"
   ]
  },
  {
   "cell_type": "code",
   "execution_count": null,
   "metadata": {},
   "outputs": [],
   "source": [
    "# msi.obs.index = msi.obsm['spatial']"
   ]
  },
  {
   "cell_type": "code",
   "execution_count": null,
   "metadata": {},
   "outputs": [],
   "source": [
    "mdata = mu.MuData({'rna':rna, 'msi':msi})"
   ]
  },
  {
   "cell_type": "code",
   "execution_count": null,
   "metadata": {},
   "outputs": [],
   "source": [
    "sq.pl.spatial_scatter(msi, color=['674.2805']) # plot dopamine"
   ]
  },
  {
   "cell_type": "code",
   "execution_count": null,
   "metadata": {},
   "outputs": [],
   "source": []
  },
  {
   "cell_type": "code",
   "execution_count": null,
   "metadata": {},
   "outputs": [],
   "source": [
    "# swap back to raw intensities\n",
    "mdata.mod['msi'].X = mdata.mod['msi'].layers['raw'].copy()\n",
    "del mdata.mod['msi'].layers['raw']"
   ]
  },
  {
   "cell_type": "code",
   "execution_count": null,
   "metadata": {},
   "outputs": [],
   "source": [
    "mdata.write_h5mu(slide_path + \"/sma.h5mu\")"
   ]
  },
  {
   "cell_type": "code",
   "execution_count": null,
   "metadata": {},
   "outputs": [],
   "source": []
  },
  {
   "cell_type": "code",
   "execution_count": null,
   "metadata": {},
   "outputs": [],
   "source": [
    "mdata.obs"
   ]
  },
  {
   "cell_type": "code",
   "execution_count": null,
   "metadata": {},
   "outputs": [],
   "source": []
  }
 ],
 "metadata": {
  "kernelspec": {
   "display_name": "spiana",
   "language": "python",
   "name": "python3"
  },
  "language_info": {
   "codemirror_mode": {
    "name": "ipython",
    "version": 3
   },
   "file_extension": ".py",
   "mimetype": "text/x-python",
   "name": "python",
   "nbconvert_exporter": "python",
   "pygments_lexer": "ipython3",
   "version": "3.10.10"
  },
  "orig_nbformat": 4
 },
 "nbformat": 4,
 "nbformat_minor": 2
}

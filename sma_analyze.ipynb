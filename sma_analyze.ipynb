{
 "cells": [
  {
   "cell_type": "code",
   "execution_count": null,
   "metadata": {},
   "outputs": [],
   "source": [
    "import os\n",
    "import numpy as np\n",
    "import pandas as pd\n",
    "import scanpy as sc\n",
    "# import squidpy as sq\n",
    "\n",
    "# import muon as mu\n",
    "import mudata as mu"
   ]
  },
  {
   "cell_type": "code",
   "execution_count": null,
   "metadata": {},
   "outputs": [],
   "source": [
    "import liana as li"
   ]
  },
  {
   "cell_type": "code",
   "execution_count": null,
   "metadata": {},
   "outputs": [],
   "source": []
  },
  {
   "cell_type": "code",
   "execution_count": null,
   "metadata": {},
   "outputs": [],
   "source": [
    "## load slide\n",
    "slide = \"B1\"\n",
    "exp = \"V11L12-109\" # V11T17-102 V11L12-109 V11T16-085\n",
    "slide_path = f\"data/VicariEtAl/sma/{exp}/{exp}_{slide}/output_data\""
   ]
  },
  {
   "attachments": {},
   "cell_type": "markdown",
   "metadata": {},
   "source": [
    "NOTE: This requires coordinates to be in the same system (e.g. pixels on the image)"
   ]
  },
  {
   "cell_type": "code",
   "execution_count": null,
   "metadata": {},
   "outputs": [],
   "source": [
    "mdata = mu.read_h5mu(os.path.join(slide_path, \"sma.h5mu\"))\n",
    "rna = mdata.mod[\"rna\"]\n",
    "msi = mdata.mod[\"msi\"]"
   ]
  },
  {
   "cell_type": "code",
   "execution_count": null,
   "metadata": {},
   "outputs": [],
   "source": [
    "rna.var_names_make_unique()\n",
    "msi.var_names_make_unique()"
   ]
  },
  {
   "cell_type": "code",
   "execution_count": null,
   "metadata": {},
   "outputs": [],
   "source": [
    "mdata"
   ]
  },
  {
   "cell_type": "code",
   "execution_count": null,
   "metadata": {},
   "outputs": [],
   "source": []
  },
  {
   "attachments": {},
   "cell_type": "markdown",
   "metadata": {},
   "source": [
    "## Process RNA"
   ]
  },
  {
   "cell_type": "code",
   "execution_count": null,
   "metadata": {},
   "outputs": [],
   "source": [
    "sc.pp.filter_cells(rna, min_genes=200)\n",
    "sc.pp.filter_cells(rna, min_counts=100)\n",
    "sc.pp.filter_genes(rna, min_cells=3)"
   ]
  },
  {
   "cell_type": "code",
   "execution_count": null,
   "metadata": {},
   "outputs": [],
   "source": [
    "sc.pp.normalize_total(rna, target_sum=1e4)\n",
    "sc.pp.log1p(rna)"
   ]
  },
  {
   "cell_type": "code",
   "execution_count": null,
   "metadata": {},
   "outputs": [],
   "source": [
    "\n",
    "sc.pp.highly_variable_genes(rna, flavor='cell_ranger', n_top_genes=200)"
   ]
  },
  {
   "cell_type": "code",
   "execution_count": null,
   "metadata": {},
   "outputs": [],
   "source": [
    "rna = rna[:, rna.var['highly_variable']]"
   ]
  },
  {
   "cell_type": "code",
   "execution_count": null,
   "metadata": {},
   "outputs": [],
   "source": [
    "rna"
   ]
  },
  {
   "attachments": {},
   "cell_type": "markdown",
   "metadata": {},
   "source": [
    "## Process metabolites"
   ]
  },
  {
   "cell_type": "code",
   "execution_count": null,
   "metadata": {},
   "outputs": [],
   "source": [
    "# change type to float\n",
    "msi.var['mz'] = msi.var.index.astype(float)\n",
    "# round to 2 decimals\n",
    "msi.var['mz'] = [round(x, 2) for x in msi.var['mz']]"
   ]
  },
  {
   "cell_type": "code",
   "execution_count": null,
   "metadata": {},
   "outputs": [],
   "source": [
    "msi.var['max_intensity'] = msi.X.sum(axis=0)"
   ]
  },
  {
   "cell_type": "code",
   "execution_count": null,
   "metadata": {},
   "outputs": [],
   "source": [
    "molecule_weights = {\n",
    "    'GABA': 371.18,\n",
    "    'GABA-H2O': 353.16,\n",
    "    'Taurine': 393.13,\n",
    "    'Serotonin': 444.21,\n",
    "    'Histidine': 423.18,\n",
    "    '3-MT': 435.21,\n",
    "    'Dopamine (single)': 421.19,\n",
    "    'Dopamine (double)': 674.28,\n",
    "    'DOPAC': 689.24,\n",
    "    'NE (Norepinephrine)': 690.28,\n",
    "    'Tocopherol': 698.49\n",
    "}"
   ]
  },
  {
   "cell_type": "code",
   "execution_count": null,
   "metadata": {},
   "outputs": [],
   "source": [
    "# show m/z with matching molecule weight\n",
    "msk = msi.var['mz'].isin(molecule_weights.values())"
   ]
  },
  {
   "cell_type": "code",
   "execution_count": null,
   "metadata": {},
   "outputs": [],
   "source": [
    "msi = msi[:, msk]"
   ]
  },
  {
   "cell_type": "code",
   "execution_count": null,
   "metadata": {},
   "outputs": [],
   "source": [
    "msi.var['name'] = msi.var['mz'].map({v: k for k, v in molecule_weights.items()})\n",
    "msi.var['name'] = msi.var['name'].astype('category')\n",
    "msi.var.index = msi.var['name']"
   ]
  },
  {
   "cell_type": "code",
   "execution_count": null,
   "metadata": {},
   "outputs": [],
   "source": []
  },
  {
   "cell_type": "code",
   "execution_count": null,
   "metadata": {},
   "outputs": [],
   "source": [
    "from matplotlib import pyplot as plt"
   ]
  },
  {
   "cell_type": "code",
   "execution_count": null,
   "metadata": {},
   "outputs": [],
   "source": [
    "msi.X.sum(axis=1)"
   ]
  },
  {
   "cell_type": "code",
   "execution_count": null,
   "metadata": {},
   "outputs": [],
   "source": [
    "x = msi.X.sum(axis=1)\n",
    "\n",
    "# histogram of total ion count\n",
    "plt.hist(np.array(x), bins=25)"
   ]
  },
  {
   "cell_type": "code",
   "execution_count": null,
   "metadata": {},
   "outputs": [],
   "source": []
  },
  {
   "attachments": {},
   "cell_type": "markdown",
   "metadata": {},
   "source": [
    "Test"
   ]
  },
  {
   "cell_type": "code",
   "execution_count": null,
   "metadata": {},
   "outputs": [],
   "source": [
    "# get reference coordinates\n",
    "reference = mdata.mod[\"rna\"].obsm[\"spatial\"]\n",
    "\n",
    "# distances of metabolties to RNA\n",
    "li.ut.spatial_neighbors(msi, bandwidth=500, cutoff=0.1, spatial_key=\"spatial\", reference=reference, set_diag=False, standardize=False)"
   ]
  },
  {
   "cell_type": "code",
   "execution_count": null,
   "metadata": {},
   "outputs": [],
   "source": []
  },
  {
   "cell_type": "code",
   "execution_count": null,
   "metadata": {},
   "outputs": [],
   "source": [
    "# get reference coordinates\n",
    "reference = mdata.mod[\"msi\"].obsm[\"spatial\"]\n",
    "\n",
    "# distances of metabolties to RNA\n",
    "li.ut.spatial_neighbors(rna, bandwidth=500, cutoff=0.1, spatial_key=\"spatial\", reference=reference, set_diag=False, standardize=False)"
   ]
  },
  {
   "cell_type": "code",
   "execution_count": null,
   "metadata": {},
   "outputs": [],
   "source": []
  },
  {
   "cell_type": "code",
   "execution_count": null,
   "metadata": {},
   "outputs": [],
   "source": [
    "import squidpy as sq"
   ]
  },
  {
   "cell_type": "code",
   "execution_count": null,
   "metadata": {},
   "outputs": [],
   "source": [
    "sq.pl.spatial_scatter(msi, color=\"Dopamine (double)\")"
   ]
  },
  {
   "cell_type": "code",
   "execution_count": null,
   "metadata": {},
   "outputs": [],
   "source": [
    "# spatial weight all as 1\n",
    "# w = np.zeros((msi.obsm['spatial_connectivities'].T.shape))"
   ]
  },
  {
   "cell_type": "code",
   "execution_count": null,
   "metadata": {},
   "outputs": [],
   "source": [
    "w = msi.obsm['spatial_connectivities'].T"
   ]
  },
  {
   "cell_type": "code",
   "execution_count": null,
   "metadata": {},
   "outputs": [],
   "source": [
    "# Apply Spatial Smoothing with RNA as reference\n",
    "msi_smooth = w @ msi.X"
   ]
  },
  {
   "cell_type": "code",
   "execution_count": null,
   "metadata": {},
   "outputs": [],
   "source": [
    "msi_smooth = sc.AnnData(X=msi_smooth, obs=rna.obs, obsm=rna.obsm, uns=rna.uns, var=msi.var)"
   ]
  },
  {
   "cell_type": "code",
   "execution_count": null,
   "metadata": {},
   "outputs": [],
   "source": [
    "sq.pl.spatial_scatter(msi_smooth, color=\"Dopamine (double)\")"
   ]
  },
  {
   "cell_type": "code",
   "execution_count": null,
   "metadata": {},
   "outputs": [],
   "source": [
    "w2 = rna.obsm['spatial_connectivities'].T"
   ]
  },
  {
   "cell_type": "code",
   "execution_count": null,
   "metadata": {},
   "outputs": [],
   "source": [
    "x_mat, y_mat = msi.X.T, rna.X[:,:8].T\n"
   ]
  },
  {
   "cell_type": "code",
   "execution_count": null,
   "metadata": {},
   "outputs": [],
   "source": [
    "weight = w\n",
    "weight = w2"
   ]
  },
  {
   "cell_type": "code",
   "execution_count": null,
   "metadata": {},
   "outputs": [],
   "source": [
    "x_mat = x_mat @ weight.T\n",
    "y_mat = y_mat @ weight2.T"
   ]
  },
  {
   "cell_type": "code",
   "execution_count": null,
   "metadata": {},
   "outputs": [],
   "source": []
  },
  {
   "attachments": {},
   "cell_type": "markdown",
   "metadata": {},
   "source": [
    "Mitsy"
   ]
  },
  {
   "cell_type": "code",
   "execution_count": null,
   "metadata": {},
   "outputs": [],
   "source": [
    "mdata.update_obs()"
   ]
  },
  {
   "cell_type": "code",
   "execution_count": null,
   "metadata": {},
   "outputs": [],
   "source": [
    "misty = li.mt.MistyData({\"intra\": msi, \"inter\":rna}, enforce_obs=False, obs=mdata.obs)\n"
   ]
  },
  {
   "cell_type": "code",
   "execution_count": null,
   "metadata": {},
   "outputs": [],
   "source": [
    "misty(model=\"linear\", verbose=True, bypass_intra=True)"
   ]
  },
  {
   "cell_type": "code",
   "execution_count": null,
   "metadata": {},
   "outputs": [],
   "source": [
    "# NOTE: why is stat being passed here and why does it work?....\n",
    "li.pl.contributions(misty, return_fig=True)"
   ]
  },
  {
   "cell_type": "code",
   "execution_count": null,
   "metadata": {},
   "outputs": [],
   "source": [
    "misty.uns['target_metrics']"
   ]
  },
  {
   "cell_type": "code",
   "execution_count": null,
   "metadata": {},
   "outputs": [],
   "source": []
  },
  {
   "cell_type": "code",
   "execution_count": null,
   "metadata": {},
   "outputs": [],
   "source": [
    "li.pl.target_metrics(misty, stat='multi_R2', return_fig=True)\n"
   ]
  },
  {
   "cell_type": "code",
   "execution_count": null,
   "metadata": {},
   "outputs": [],
   "source": []
  },
  {
   "cell_type": "code",
   "execution_count": null,
   "metadata": {},
   "outputs": [],
   "source": [
    "misty.uns['interactions'].sort_values(\"importances\")"
   ]
  },
  {
   "cell_type": "code",
   "execution_count": null,
   "metadata": {},
   "outputs": [],
   "source": []
  },
  {
   "cell_type": "code",
   "execution_count": null,
   "metadata": {},
   "outputs": [],
   "source": [
    "from sklearn.neighbors import BallTree\n",
    "import plotnine as p9"
   ]
  },
  {
   "cell_type": "code",
   "execution_count": null,
   "metadata": {},
   "outputs": [],
   "source": [
    "def query_bandwidth(coordinates, start=0, end=500, interval_n=50, reference=None, inplace=False):\n",
    "    tree = BallTree(coordinates, metric='euclidean')\n",
    "\n",
    "    # initialize df\n",
    "    df = pd.DataFrame()\n",
    "\n",
    "    # Specify a range of max distances\n",
    "    interval = np.linspace(start, end, interval_n)\n",
    "    \n",
    "    if reference is None:\n",
    "        _reference = coordinates\n",
    "    else:\n",
    "        _reference = reference\n",
    "\n",
    "    # Calculate average number of nearest neighbors for each max distance\n",
    "    for n in range(interval_n):\n",
    "        # Query the neighbors within the specified distance using ball_point\n",
    "        max_distance = interval[n]\n",
    "        df.loc[n, 'bandwith'] = max_distance\n",
    "        num_neighbors = tree.query_radius(_reference, r=max_distance, count_only=True)\n",
    "        \n",
    "        # Calculate the average number of neighbors\n",
    "        avg_nn = np.mean(num_neighbors)\n",
    "        df.loc[n, 'neighbours'] = avg_nn\n",
    "    \n",
    "    p = (p9.ggplot(df, p9.aes(x='bandwith', y='neighbours')) +\n",
    "         p9.geom_line() + \n",
    "         p9.geom_point() +\n",
    "         p9.theme_bw(base_size=16) +\n",
    "         p9.xlab(\"Bandwidth\") +\n",
    "         p9.ylab(\"Average Number of Neighbors\")\n",
    "         )\n",
    "    \n",
    "    return p, df\n",
    "    "
   ]
  },
  {
   "cell_type": "code",
   "execution_count": null,
   "metadata": {},
   "outputs": [],
   "source": []
  },
  {
   "cell_type": "code",
   "execution_count": null,
   "metadata": {},
   "outputs": [],
   "source": [
    "coordinates = msi.obsm['spatial']"
   ]
  },
  {
   "cell_type": "code",
   "execution_count": null,
   "metadata": {},
   "outputs": [],
   "source": [
    "p, _ = query_bandwidth(coordinates, start=0, end=5000, interval_n=50, reference=None)"
   ]
  },
  {
   "cell_type": "code",
   "execution_count": null,
   "metadata": {},
   "outputs": [],
   "source": [
    "p"
   ]
  },
  {
   "cell_type": "code",
   "execution_count": null,
   "metadata": {},
   "outputs": [],
   "source": []
  },
  {
   "cell_type": "code",
   "execution_count": null,
   "metadata": {},
   "outputs": [],
   "source": [
    "reference = mdata.mod[\"msi\"].obsm[\"spatial\"]"
   ]
  },
  {
   "cell_type": "code",
   "execution_count": null,
   "metadata": {},
   "outputs": [],
   "source": [
    "coordinates = mdata.mod[\"rna\"].obsm[\"spatial\"]"
   ]
  },
  {
   "cell_type": "code",
   "execution_count": null,
   "metadata": {},
   "outputs": [],
   "source": [
    "p, df = query_bandwidth(coordinates, start=300, end=5000, interval_n=50, reference=reference)"
   ]
  },
  {
   "cell_type": "code",
   "execution_count": null,
   "metadata": {},
   "outputs": [],
   "source": []
  }
 ],
 "metadata": {
  "kernelspec": {
   "display_name": "spiana",
   "language": "python",
   "name": "python3"
  },
  "language_info": {
   "codemirror_mode": {
    "name": "ipython",
    "version": 3
   },
   "file_extension": ".py",
   "mimetype": "text/x-python",
   "name": "python",
   "nbconvert_exporter": "python",
   "pygments_lexer": "ipython3",
   "version": "3.10.10"
  },
  "orig_nbformat": 4
 },
 "nbformat": 4,
 "nbformat_minor": 2
}

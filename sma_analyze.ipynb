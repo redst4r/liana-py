{
 "cells": [
  {
   "cell_type": "code",
   "execution_count": 1,
   "metadata": {},
   "outputs": [
    {
     "name": "stderr",
     "output_type": "stream",
     "text": [
      "/home/dbdimitrov/anaconda3/envs/spiana/lib/python3.10/site-packages/tqdm/auto.py:21: TqdmWarning: IProgress not found. Please update jupyter and ipywidgets. See https://ipywidgets.readthedocs.io/en/stable/user_install.html\n",
      "  from .autonotebook import tqdm as notebook_tqdm\n"
     ]
    }
   ],
   "source": [
    "import os\n",
    "import numpy as np\n",
    "import pandas as pd\n",
    "import scanpy as sc\n",
    "import squidpy as sq\n",
    "\n",
    "import muon as mu\n",
    "\n",
    "import warnings\n",
    "warnings.filterwarnings('ignore')"
   ]
  },
  {
   "cell_type": "code",
   "execution_count": 2,
   "metadata": {},
   "outputs": [],
   "source": [
    "import matplotlib.pyplot as plt"
   ]
  },
  {
   "cell_type": "code",
   "execution_count": 3,
   "metadata": {},
   "outputs": [],
   "source": [
    "import liana as li"
   ]
  },
  {
   "cell_type": "code",
   "execution_count": 4,
   "metadata": {},
   "outputs": [],
   "source": [
    "## load slide\n",
    "slide = \"C1\"\n",
    "exp = \"V11L12-109\" # V11T17-102 V11L12-109 V11T16-085\n",
    "slide_path = f\"data/sma/{exp}/{exp}_{slide}/output_data\""
   ]
  },
  {
   "cell_type": "code",
   "execution_count": 5,
   "metadata": {},
   "outputs": [],
   "source": [
    "mdata = mu.read_h5mu(os.path.join(slide_path, \"sma.h5mu\"))\n",
    "rna = mdata.mod[\"rna\"]\n",
    "msi = mdata.mod[\"msi\"]"
   ]
  },
  {
   "cell_type": "code",
   "execution_count": null,
   "metadata": {},
   "outputs": [],
   "source": []
  },
  {
   "attachments": {},
   "cell_type": "markdown",
   "metadata": {},
   "source": [
    "HVG"
   ]
  },
  {
   "cell_type": "code",
   "execution_count": 6,
   "metadata": {},
   "outputs": [],
   "source": [
    "sc.pp.highly_variable_genes(rna, flavor='cell_ranger', n_top_genes=500)\n",
    "rna = rna[:, rna.var['highly_variable']]"
   ]
  },
  {
   "cell_type": "code",
   "execution_count": 7,
   "metadata": {},
   "outputs": [],
   "source": [
    "sc.pp.highly_variable_genes(msi, flavor='cell_ranger', n_top_genes=20)"
   ]
  },
  {
   "cell_type": "code",
   "execution_count": 8,
   "metadata": {},
   "outputs": [
    {
     "data": {
      "text/html": [
       "<div>\n",
       "<style scoped>\n",
       "    .dataframe tbody tr th:only-of-type {\n",
       "        vertical-align: middle;\n",
       "    }\n",
       "\n",
       "    .dataframe tbody tr th {\n",
       "        vertical-align: top;\n",
       "    }\n",
       "\n",
       "    .dataframe thead th {\n",
       "        text-align: right;\n",
       "    }\n",
       "</style>\n",
       "<table border=\"1\" class=\"dataframe\">\n",
       "  <thead>\n",
       "    <tr style=\"text-align: right;\">\n",
       "      <th></th>\n",
       "      <th>mean</th>\n",
       "      <th>std</th>\n",
       "      <th>mz</th>\n",
       "      <th>max_intensity</th>\n",
       "      <th>mz_raw</th>\n",
       "      <th>annotated</th>\n",
       "      <th>highly_variable</th>\n",
       "      <th>means</th>\n",
       "      <th>dispersions</th>\n",
       "      <th>dispersions_norm</th>\n",
       "    </tr>\n",
       "    <tr>\n",
       "      <th>name</th>\n",
       "      <th></th>\n",
       "      <th></th>\n",
       "      <th></th>\n",
       "      <th></th>\n",
       "      <th></th>\n",
       "      <th></th>\n",
       "      <th></th>\n",
       "      <th></th>\n",
       "      <th></th>\n",
       "      <th></th>\n",
       "    </tr>\n",
       "  </thead>\n",
       "  <tbody>\n",
       "    <tr>\n",
       "      <th>156.26059</th>\n",
       "      <td>0.054031</td>\n",
       "      <td>0.209327</td>\n",
       "      <td>156.26</td>\n",
       "      <td>9.248456e+06</td>\n",
       "      <td>156.26059</td>\n",
       "      <td>NaN</td>\n",
       "      <td>False</td>\n",
       "      <td>0.000015</td>\n",
       "      <td>0.000156</td>\n",
       "      <td>-1.697950</td>\n",
       "    </tr>\n",
       "    <tr>\n",
       "      <th>156.26195</th>\n",
       "      <td>0.053002</td>\n",
       "      <td>0.216041</td>\n",
       "      <td>156.26</td>\n",
       "      <td>9.709658e+06</td>\n",
       "      <td>156.26195</td>\n",
       "      <td>NaN</td>\n",
       "      <td>False</td>\n",
       "      <td>0.000015</td>\n",
       "      <td>0.000196</td>\n",
       "      <td>-1.041784</td>\n",
       "    </tr>\n",
       "    <tr>\n",
       "      <th>156.48344</th>\n",
       "      <td>0.043413</td>\n",
       "      <td>0.192435</td>\n",
       "      <td>156.48</td>\n",
       "      <td>7.791353e+06</td>\n",
       "      <td>156.48344</td>\n",
       "      <td>NaN</td>\n",
       "      <td>False</td>\n",
       "      <td>0.000012</td>\n",
       "      <td>0.000188</td>\n",
       "      <td>-1.560041</td>\n",
       "    </tr>\n",
       "    <tr>\n",
       "      <th>156.4838</th>\n",
       "      <td>0.044560</td>\n",
       "      <td>0.197815</td>\n",
       "      <td>156.48</td>\n",
       "      <td>8.191085e+06</td>\n",
       "      <td>156.4838</td>\n",
       "      <td>NaN</td>\n",
       "      <td>False</td>\n",
       "      <td>0.000013</td>\n",
       "      <td>0.000216</td>\n",
       "      <td>-0.966551</td>\n",
       "    </tr>\n",
       "    <tr>\n",
       "      <th>156.485</th>\n",
       "      <td>0.047777</td>\n",
       "      <td>0.199507</td>\n",
       "      <td>156.49</td>\n",
       "      <td>8.323181e+06</td>\n",
       "      <td>156.485</td>\n",
       "      <td>NaN</td>\n",
       "      <td>False</td>\n",
       "      <td>0.000013</td>\n",
       "      <td>0.000171</td>\n",
       "      <td>-1.732839</td>\n",
       "    </tr>\n",
       "    <tr>\n",
       "      <th>...</th>\n",
       "      <td>...</td>\n",
       "      <td>...</td>\n",
       "      <td>...</td>\n",
       "      <td>...</td>\n",
       "      <td>...</td>\n",
       "      <td>...</td>\n",
       "      <td>...</td>\n",
       "      <td>...</td>\n",
       "      <td>...</td>\n",
       "      <td>...</td>\n",
       "    </tr>\n",
       "    <tr>\n",
       "      <th>1046.36442</th>\n",
       "      <td>0.039963</td>\n",
       "      <td>0.231604</td>\n",
       "      <td>1046.36</td>\n",
       "      <td>9.796245e+06</td>\n",
       "      <td>1046.36442</td>\n",
       "      <td>NaN</td>\n",
       "      <td>True</td>\n",
       "      <td>0.000015</td>\n",
       "      <td>0.000429</td>\n",
       "      <td>4.708579</td>\n",
       "    </tr>\n",
       "    <tr>\n",
       "      <th>1048.32025</th>\n",
       "      <td>0.043342</td>\n",
       "      <td>0.237810</td>\n",
       "      <td>1048.32</td>\n",
       "      <td>1.037273e+07</td>\n",
       "      <td>1048.32025</td>\n",
       "      <td>NaN</td>\n",
       "      <td>False</td>\n",
       "      <td>0.000016</td>\n",
       "      <td>0.000412</td>\n",
       "      <td>2.443542</td>\n",
       "    </tr>\n",
       "    <tr>\n",
       "      <th>1048.3319</th>\n",
       "      <td>0.053136</td>\n",
       "      <td>0.273897</td>\n",
       "      <td>1048.33</td>\n",
       "      <td>1.381839e+07</td>\n",
       "      <td>1048.3319</td>\n",
       "      <td>NaN</td>\n",
       "      <td>True</td>\n",
       "      <td>0.000022</td>\n",
       "      <td>0.000517</td>\n",
       "      <td>4.230426</td>\n",
       "    </tr>\n",
       "    <tr>\n",
       "      <th>1048.34354</th>\n",
       "      <td>0.045275</td>\n",
       "      <td>0.247415</td>\n",
       "      <td>1048.34</td>\n",
       "      <td>1.104286e+07</td>\n",
       "      <td>1048.34354</td>\n",
       "      <td>NaN</td>\n",
       "      <td>False</td>\n",
       "      <td>0.000017</td>\n",
       "      <td>0.000414</td>\n",
       "      <td>1.810669</td>\n",
       "    </tr>\n",
       "    <tr>\n",
       "      <th>1048.38431</th>\n",
       "      <td>0.042369</td>\n",
       "      <td>0.242207</td>\n",
       "      <td>1048.38</td>\n",
       "      <td>1.117843e+07</td>\n",
       "      <td>1048.38431</td>\n",
       "      <td>NaN</td>\n",
       "      <td>True</td>\n",
       "      <td>0.000017</td>\n",
       "      <td>0.000702</td>\n",
       "      <td>5.431904</td>\n",
       "    </tr>\n",
       "  </tbody>\n",
       "</table>\n",
       "<p>1538 rows × 10 columns</p>\n",
       "</div>"
      ],
      "text/plain": [
       "                mean       std       mz  max_intensity      mz_raw annotated  \\\n",
       "name                                                                           \n",
       "156.26059   0.054031  0.209327   156.26   9.248456e+06   156.26059       NaN   \n",
       "156.26195   0.053002  0.216041   156.26   9.709658e+06   156.26195       NaN   \n",
       "156.48344   0.043413  0.192435   156.48   7.791353e+06   156.48344       NaN   \n",
       "156.4838    0.044560  0.197815   156.48   8.191085e+06    156.4838       NaN   \n",
       "156.485     0.047777  0.199507   156.49   8.323181e+06     156.485       NaN   \n",
       "...              ...       ...      ...            ...         ...       ...   \n",
       "1046.36442  0.039963  0.231604  1046.36   9.796245e+06  1046.36442       NaN   \n",
       "1048.32025  0.043342  0.237810  1048.32   1.037273e+07  1048.32025       NaN   \n",
       "1048.3319   0.053136  0.273897  1048.33   1.381839e+07   1048.3319       NaN   \n",
       "1048.34354  0.045275  0.247415  1048.34   1.104286e+07  1048.34354       NaN   \n",
       "1048.38431  0.042369  0.242207  1048.38   1.117843e+07  1048.38431       NaN   \n",
       "\n",
       "            highly_variable     means  dispersions  dispersions_norm  \n",
       "name                                                                  \n",
       "156.26059             False  0.000015     0.000156         -1.697950  \n",
       "156.26195             False  0.000015     0.000196         -1.041784  \n",
       "156.48344             False  0.000012     0.000188         -1.560041  \n",
       "156.4838              False  0.000013     0.000216         -0.966551  \n",
       "156.485               False  0.000013     0.000171         -1.732839  \n",
       "...                     ...       ...          ...               ...  \n",
       "1046.36442             True  0.000015     0.000429          4.708579  \n",
       "1048.32025            False  0.000016     0.000412          2.443542  \n",
       "1048.3319              True  0.000022     0.000517          4.230426  \n",
       "1048.34354            False  0.000017     0.000414          1.810669  \n",
       "1048.38431             True  0.000017     0.000702          5.431904  \n",
       "\n",
       "[1538 rows x 10 columns]"
      ]
     },
     "execution_count": 8,
     "metadata": {},
     "output_type": "execute_result"
    }
   ],
   "source": [
    "msi.var"
   ]
  },
  {
   "cell_type": "code",
   "execution_count": 9,
   "metadata": {},
   "outputs": [],
   "source": [
    "msk = (msi.var.index.isin(msi.var['annotated']) + msi.var['highly_variable'])"
   ]
  },
  {
   "cell_type": "code",
   "execution_count": 10,
   "metadata": {},
   "outputs": [],
   "source": [
    "msi = msi[:, msk].copy()"
   ]
  },
  {
   "cell_type": "code",
   "execution_count": null,
   "metadata": {},
   "outputs": [],
   "source": []
  },
  {
   "attachments": {},
   "cell_type": "markdown",
   "metadata": {},
   "source": [
    "Test"
   ]
  },
  {
   "cell_type": "code",
   "execution_count": 11,
   "metadata": {},
   "outputs": [],
   "source": [
    "# get reference coordinates\n",
    "reference = mdata.mod[\"rna\"].obsm[\"spatial\"]\n"
   ]
  },
  {
   "cell_type": "code",
   "execution_count": 12,
   "metadata": {},
   "outputs": [
    {
     "data": {
      "image/png": "[encoded data removed]",
      "text/plain": [
       "<Figure size 640x480 with 1 Axes>"
      ]
     },
     "metadata": {
      "image/png": {
       "height": 480,
       "width": 640
      }
     },
     "output_type": "display_data"
    },
    {
     "data": {
      "text/plain": [
       "<Figure Size: (640 x 480)>"
      ]
     },
     "execution_count": 12,
     "metadata": {},
     "output_type": "execute_result"
    }
   ],
   "source": [
    "plot, _ = li.ut.query_bandwidth(coordinates=rna.obsm['spatial'], start=0, end=1500, interval_n=20, reference=reference)\n",
    "plot"
   ]
  },
  {
   "cell_type": "code",
   "execution_count": 13,
   "metadata": {},
   "outputs": [],
   "source": [
    "# distances of metabolties to RNA\n",
    "li.ut.spatial_neighbors(msi, bandwidth=1000, cutoff=0.1, spatial_key=\"spatial\", reference=reference, set_diag=False, standardize=False)"
   ]
  },
  {
   "cell_type": "code",
   "execution_count": null,
   "metadata": {},
   "outputs": [],
   "source": []
  },
  {
   "cell_type": "code",
   "execution_count": null,
   "metadata": {},
   "outputs": [],
   "source": [
    "# get reference coordinates\n",
    "reference = mdata.mod[\"msi\"].obsm[\"spatial\"]\n",
    "\n",
    "# distances of metabolties to RNA\n",
    "li.ut.spatial_neighbors(rna, bandwidth=500, cutoff=0.1, spatial_key=\"spatial\", reference=reference, set_diag=False, standardize=False)"
   ]
  },
  {
   "cell_type": "code",
   "execution_count": null,
   "metadata": {},
   "outputs": [],
   "source": []
  },
  {
   "cell_type": "code",
   "execution_count": null,
   "metadata": {},
   "outputs": [],
   "source": [
    "sq.pl.spatial_scatter(msi, color=\"Dopamine (double)\")"
   ]
  },
  {
   "cell_type": "code",
   "execution_count": null,
   "metadata": {},
   "outputs": [],
   "source": [
    "# spatial weight all as 1\n",
    "w = np.zeros((msi.obsm['spatial_connectivities'].T.shape))"
   ]
  },
  {
   "cell_type": "code",
   "execution_count": null,
   "metadata": {},
   "outputs": [],
   "source": [
    "w = msi.obsm['spatial_connectivities'].T"
   ]
  },
  {
   "cell_type": "code",
   "execution_count": null,
   "metadata": {},
   "outputs": [],
   "source": [
    "# Apply Spatial Smoothing with RNA as reference\n",
    "msi_smooth = w @ msi.X\n",
    "msi_smooth = sc.AnnData(X=msi_smooth, obs=rna.obs, obsm=rna.obsm, uns=rna.uns, var=msi.var)"
   ]
  },
  {
   "cell_type": "code",
   "execution_count": null,
   "metadata": {},
   "outputs": [],
   "source": [
    "sq.pl.spatial_scatter(msi_smooth, color=\"Dopamine (double)\")"
   ]
  },
  {
   "cell_type": "code",
   "execution_count": null,
   "metadata": {},
   "outputs": [],
   "source": []
  },
  {
   "attachments": {},
   "cell_type": "markdown",
   "metadata": {},
   "source": [
    "Mitsy"
   ]
  },
  {
   "cell_type": "code",
   "execution_count": null,
   "metadata": {},
   "outputs": [],
   "source": [
    "mdata.update_obs()"
   ]
  },
  {
   "cell_type": "code",
   "execution_count": null,
   "metadata": {},
   "outputs": [],
   "source": [
    "misty = li.mt.MistyData({\"intra\": msi, \"inter\":rna}, enforce_obs=False, obs=mdata.obs)\n"
   ]
  },
  {
   "cell_type": "code",
   "execution_count": null,
   "metadata": {},
   "outputs": [],
   "source": []
  },
  {
   "cell_type": "code",
   "execution_count": null,
   "metadata": {},
   "outputs": [],
   "source": [
    "misty(model=\"linear\", verbose=True, bypass_intra=True)"
   ]
  },
  {
   "cell_type": "code",
   "execution_count": null,
   "metadata": {},
   "outputs": [],
   "source": [
    "misty.uns['target_metrics'].sort_values(\"gain_R2\", ascending=False).head(10)"
   ]
  },
  {
   "cell_type": "code",
   "execution_count": null,
   "metadata": {},
   "outputs": [],
   "source": [
    "li.pl.target_metrics(misty, stat='multi_R2', top_n=25, return_fig=True)"
   ]
  },
  {
   "cell_type": "code",
   "execution_count": null,
   "metadata": {},
   "outputs": [],
   "source": []
  },
  {
   "cell_type": "code",
   "execution_count": null,
   "metadata": {},
   "outputs": [],
   "source": [
    "metab = '674.28833' # '551.23688'\n",
    "misty.uns['interactions'][misty.uns['interactions']['target'] == metab].sort_values(\"importances\", key=abs, ascending=False).head(30)"
   ]
  },
  {
   "cell_type": "code",
   "execution_count": null,
   "metadata": {},
   "outputs": [],
   "source": []
  },
  {
   "cell_type": "code",
   "execution_count": null,
   "metadata": {},
   "outputs": [],
   "source": []
  },
  {
   "cell_type": "code",
   "execution_count": null,
   "metadata": {},
   "outputs": [],
   "source": []
  },
  {
   "cell_type": "code",
   "execution_count": null,
   "metadata": {},
   "outputs": [],
   "source": []
  },
  {
   "cell_type": "code",
   "execution_count": null,
   "metadata": {},
   "outputs": [],
   "source": []
  },
  {
   "cell_type": "code",
   "execution_count": null,
   "metadata": {},
   "outputs": [],
   "source": []
  },
  {
   "cell_type": "code",
   "execution_count": null,
   "metadata": {},
   "outputs": [],
   "source": []
  },
  {
   "cell_type": "code",
   "execution_count": null,
   "metadata": {},
   "outputs": [],
   "source": []
  },
  {
   "cell_type": "code",
   "execution_count": null,
   "metadata": {},
   "outputs": [],
   "source": [
    "# Apply Spatial Smoothing with RNA as reference\n",
    "w2 = li.ut.spatial_neighbors(rna, bandwidth=500, cutoff=0.1, spatial_key=\"spatial\", inplace=False, set_diag=False, standardize=False)\n",
    "rna.layers['smooth'] = w2 @ rna.X"
   ]
  },
  {
   "cell_type": "code",
   "execution_count": null,
   "metadata": {},
   "outputs": [],
   "source": [
    "rna_smooth = rna[:, 'Pdyn'].layers['smooth'].copy()"
   ]
  },
  {
   "cell_type": "code",
   "execution_count": null,
   "metadata": {},
   "outputs": [],
   "source": [
    "sc.AnnData(msi_smooth[:,'Dopamine (double)'].X * rna_smooth.A.flatten())"
   ]
  },
  {
   "cell_type": "code",
   "execution_count": null,
   "metadata": {},
   "outputs": [],
   "source": [
    "import muon as mu"
   ]
  },
  {
   "cell_type": "code",
   "execution_count": null,
   "metadata": {},
   "outputs": [],
   "source": [
    "mdata = mu.MuData({'rna':rna, 'msi':msi_smooth}, obs=rna.obs, uns=rna.uns)"
   ]
  },
  {
   "cell_type": "code",
   "execution_count": null,
   "metadata": {},
   "outputs": [],
   "source": [
    "mdata"
   ]
  },
  {
   "cell_type": "code",
   "execution_count": null,
   "metadata": {},
   "outputs": [],
   "source": [
    "from scipy.sparse import csr_matrix\n",
    "w3 = np.zeros((mdata.shape[0], mdata.shape[0]))\n",
    "w3 = csr_matrix(w3)\n",
    "w3.setdiag(1)\n",
    "mdata.obsp['spatial_connectivities'] = w3"
   ]
  },
  {
   "cell_type": "code",
   "execution_count": null,
   "metadata": {},
   "outputs": [],
   "source": [
    "mdata"
   ]
  },
  {
   "cell_type": "code",
   "execution_count": null,
   "metadata": {},
   "outputs": [],
   "source": [
    "li.mt.bivar(mdata, function_name='product', x_mod='rna', y_mod='msi', x_layer='smooth', x_use_raw=False, y_use_raw=False, verbose=True, interactions = [('Pdyn', 'Dopamine (double)')])"
   ]
  },
  {
   "cell_type": "code",
   "execution_count": null,
   "metadata": {},
   "outputs": [],
   "source": []
  },
  {
   "cell_type": "code",
   "execution_count": null,
   "metadata": {},
   "outputs": [],
   "source": [
    "mdata.mod['local_scores'].obsm = rna.obsm"
   ]
  },
  {
   "cell_type": "code",
   "execution_count": null,
   "metadata": {},
   "outputs": [],
   "source": [
    "sq.pl.spatial_scatter(mdata.mod['local_scores'], color=['Pdyn^Dopamine (double)', 'lesion'])"
   ]
  },
  {
   "cell_type": "code",
   "execution_count": null,
   "metadata": {},
   "outputs": [],
   "source": [
    "plt.show()"
   ]
  },
  {
   "cell_type": "code",
   "execution_count": null,
   "metadata": {},
   "outputs": [],
   "source": []
  },
  {
   "cell_type": "code",
   "execution_count": null,
   "metadata": {},
   "outputs": [],
   "source": [
    "mdata.mod['local_scores'].obs"
   ]
  },
  {
   "cell_type": "code",
   "execution_count": null,
   "metadata": {},
   "outputs": [],
   "source": []
  },
  {
   "cell_type": "code",
   "execution_count": null,
   "metadata": {},
   "outputs": [],
   "source": []
  }
 ],
 "metadata": {
  "kernelspec": {
   "display_name": "spiana",
   "language": "python",
   "name": "python3"
  },
  "language_info": {
   "codemirror_mode": {
    "name": "ipython",
    "version": 3
   },
   "file_extension": ".py",
   "mimetype": "text/x-python",
   "name": "python",
   "nbconvert_exporter": "python",
   "pygments_lexer": "ipython3",
   "version": "3.10.10"
  },
  "orig_nbformat": 4
 },
 "nbformat": 4,
 "nbformat_minor": 2
}

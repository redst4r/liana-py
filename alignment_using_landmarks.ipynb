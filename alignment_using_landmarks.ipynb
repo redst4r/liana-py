{
 "cells": [
  {
   "attachments": {},
   "cell_type": "markdown",
   "id": "3f941ac7-6cd1-4087-ba7b-15a3d2cabf77",
   "metadata": {},
   "source": [
    "# Use landmark annotations to align multiple -omics layers"
   ]
  },
  {
   "attachments": {},
   "cell_type": "markdown",
   "id": "dee45520",
   "metadata": {},
   "source": [
    "We will align a Xenium and a Visium datasets for a breast cancer dataset.\n",
    "\n",
    "We will:\n",
    "1. load the data from Zarr;\n",
    "2. add landmark annotations to the data using napari;\n",
    "3. find an affine similarity transformation that aligns the data.\n"
   ]
  },
  {
   "attachments": {},
   "cell_type": "markdown",
   "id": "c1ecb39a",
   "metadata": {},
   "source": [
    "## Loading the data\n"
   ]
  },
  {
   "attachments": {},
   "cell_type": "markdown",
   "id": "dc11fee9",
   "metadata": {},
   "source": [
    "You can download the data from here: [Xenium dataset](https://s3.embl.de/spatialdata/spatialdata-sandbox/xenium_rep1_io.zip), [Visium dataset](https://s3.embl.de/spatialdata/spatialdata-sandbox/visium_associated_xenium_io.zip). Please rename the files to `xenium.zarr` and `visium.zarr` and place them in the same folder as this notebook (or use symlinks to make the data accessible)."
   ]
  },
  {
   "cell_type": "code",
   "execution_count": 1,
   "id": "9b33ec76",
   "metadata": {
    "ExecuteTime": {
     "end_time": "2023-04-10T18:53:42.780777Z",
     "start_time": "2023-04-10T18:53:42.778038Z"
    },
    "tags": []
   },
   "outputs": [],
   "source": [
    "import numpy as np\n",
    "import spatialdata as sd\n",
    "\n",
    "from napari_spatialdata import Interactive"
   ]
  },
  {
   "cell_type": "code",
   "execution_count": 2,
   "id": "8938ea12",
   "metadata": {},
   "outputs": [],
   "source": [
    "import squidpy as sq\n",
    "import scanpy as sc"
   ]
  },
  {
   "cell_type": "code",
   "execution_count": 3,
   "id": "74cb18bf",
   "metadata": {
    "ExecuteTime": {
     "end_time": "2023-04-10T16:39:12.804097Z",
     "start_time": "2023-04-10T16:39:09.756352Z"
    },
    "tags": []
   },
   "outputs": [
    {
     "name": "stderr",
     "output_type": "stream",
     "text": [
      "/home/dbdimitrov/anaconda3/envs/spatialdata/lib/python3.10/site-packages/anndata/_core/anndata.py:183: ImplicitModificationWarning: Transforming to str index.\n",
      "  warnings.warn(\"Transforming to str index.\", ImplicitModificationWarning)\n",
      "/home/dbdimitrov/anaconda3/envs/spatialdata/lib/python3.10/site-packages/spatialdata/models/models.py:466: FutureWarning: is_categorical_dtype is deprecated and will be removed in a future version. Use isinstance(dtype, CategoricalDtype) instead\n",
      "  if not is_categorical_dtype(data[feature_key]):\n"
     ]
    },
    {
     "data": {
      "text/plain": [
       "SpatialData object with:\n",
       "├── Images\n",
       "│     ├── 'morphology_focus': MultiscaleSpatialImage[cyx] (1, 25778, 35416), (1, 12889, 17708), (1, 6444, 8854), (1, 3222, 4427), (1, 1611, 2213)\n",
       "│     └── 'morphology_mip': MultiscaleSpatialImage[cyx] (1, 25778, 35416), (1, 12889, 17708), (1, 6444, 8854), (1, 3222, 4427), (1, 1611, 2213)\n",
       "├── Points\n",
       "│     └── 'transcripts': DataFrame with shape: (42638083, 9) (3D points)\n",
       "├── Shapes\n",
       "│     ├── 'cell_boundaries': GeoDataFrame shape: (167780, 1) (2D shapes)\n",
       "│     ├── 'cell_circles': GeoDataFrame shape: (167780, 2) (2D shapes)\n",
       "│     ├── 'grid': GeoDataFrame shape: (4992, 2) (2D shapes)\n",
       "│     ├── 'nucleus_boundaries': GeoDataFrame shape: (167780, 1) (2D shapes)\n",
       "│     └── 'xenium_landmarks': GeoDataFrame shape: (3, 2) (2D shapes)\n",
       "└── Table\n",
       "      └── AnnData object with n_obs × n_vars = 167780 × 313\n",
       "    obs: 'cell_id', 'transcript_counts', 'control_probe_counts', 'control_codeword_counts', 'total_counts', 'cell_area', 'nucleus_area', 'region'\n",
       "    var: 'gene_ids', 'feature_types', 'genome'\n",
       "    uns: 'spatialdata_attrs'\n",
       "    obsm: 'spatial': AnnData (167780, 313)\n",
       "with coordinate systems:\n",
       "▸ 'aligned', with elements:\n",
       "        morphology_mip (Images), grid (Shapes)\n",
       "▸ 'global', with elements:\n",
       "        morphology_focus (Images), morphology_mip (Images), transcripts (Points), cell_boundaries (Shapes), cell_circles (Shapes), nucleus_boundaries (Shapes), xenium_landmarks (Shapes)"
      ]
     },
     "execution_count": 3,
     "metadata": {},
     "output_type": "execute_result"
    }
   ],
   "source": [
    "xenium_sdata = sd.read_zarr(\"data/xenium/data.zarr/\")\n",
    "xenium_sdata"
   ]
  },
  {
   "cell_type": "code",
   "execution_count": 4,
   "id": "53b923aa",
   "metadata": {
    "ExecuteTime": {
     "end_time": "2023-04-10T16:39:26.103792Z",
     "start_time": "2023-04-10T16:39:25.844959Z"
    },
    "tags": []
   },
   "outputs": [
    {
     "data": {
      "text/plain": [
       "SpatialData object with:\n",
       "├── Images\n",
       "│     ├── 'CytAssist_FFPE_Human_Breast_Cancer_full_image': MultiscaleSpatialImage[cyx] (3, 21571, 19505), (3, 10785, 9752), (3, 5392, 4876), (3, 2696, 2438), (3, 1348, 1219)\n",
       "│     ├── 'CytAssist_FFPE_Human_Breast_Cancer_hires_image': SpatialImage[cyx] (3, 2000, 1809)\n",
       "│     └── 'CytAssist_FFPE_Human_Breast_Cancer_lowres_image': SpatialImage[cyx] (3, 600, 543)\n",
       "├── Shapes\n",
       "│     ├── 'CytAssist_FFPE_Human_Breast_Cancer': GeoDataFrame shape: (4992, 2) (2D shapes)\n",
       "│     └── 'visium_landmarks': GeoDataFrame shape: (3, 2) (2D shapes)\n",
       "└── Table\n",
       "      └── AnnData object with n_obs × n_vars = 4992 × 18085\n",
       "    obs: 'in_tissue', 'array_row', 'array_col', 'spot_id', 'region'\n",
       "    var: 'gene_ids', 'feature_types', 'genome'\n",
       "    uns: 'spatial', 'spatialdata_attrs'\n",
       "    obsm: 'spatial': AnnData (4992, 18085)\n",
       "with coordinate systems:\n",
       "▸ 'downscaled_hires', with elements:\n",
       "        CytAssist_FFPE_Human_Breast_Cancer_hires_image (Images), CytAssist_FFPE_Human_Breast_Cancer (Shapes)\n",
       "▸ 'downscaled_lowres', with elements:\n",
       "        CytAssist_FFPE_Human_Breast_Cancer_lowres_image (Images), CytAssist_FFPE_Human_Breast_Cancer (Shapes)\n",
       "▸ 'global', with elements:\n",
       "        CytAssist_FFPE_Human_Breast_Cancer_full_image (Images), CytAssist_FFPE_Human_Breast_Cancer (Shapes), visium_landmarks (Shapes)"
      ]
     },
     "execution_count": 4,
     "metadata": {},
     "output_type": "execute_result"
    }
   ],
   "source": [
    "visium_sdata = sd.read_zarr(\"data/visium/data.zarr/\")\n",
    "visium_sdata"
   ]
  },
  {
   "cell_type": "code",
   "execution_count": null,
   "id": "6dcf6e22",
   "metadata": {},
   "outputs": [],
   "source": []
  },
  {
   "attachments": {},
   "cell_type": "markdown",
   "id": "2fa12f3a",
   "metadata": {},
   "source": [
    "\n",
    "Let's visualize the data with napari.\n",
    "\n",
    "*Note: we are working with the napari developers to improve performance when visualizing large collections of geometries. For the sake of this example let's just show the Xenium and Visium images.*"
   ]
  },
  {
   "attachments": {},
   "cell_type": "markdown",
   "id": "0ec2165b",
   "metadata": {},
   "source": [
    "Here is a screenshot of the napari viewer. The images are not spatially aligned."
   ]
  },
  {
   "attachments": {},
   "cell_type": "markdown",
   "id": "f87c30be-9aa7-4d89-92f6-0427a4ae3f28",
   "metadata": {},
   "source": [
    "![](attachments/landmarks0.png)"
   ]
  },
  {
   "attachments": {},
   "cell_type": "markdown",
   "id": "dd50e8fe",
   "metadata": {},
   "source": [
    "## Adding landmark annotations\n",
    "\n",
    "Let's add some landmarks annotations using napari. We will add 3 landmarks to the Visium image to mark recognizable anatomical structures. We will then add, 3 landmarks to the Xenium image to the corresponding anatomical structures, in the same order. One can add more than 3 landmarks per image, as long as the order match between the images.\n",
    "\n",
    "This is the procedure to annotate and save the landmark locations (shown in the GIF):\n",
    "1. open `napari` with `Interactive()` from `napari_spatialdata`\n",
    "2. create a new Points layer in napari\n",
    "3. (optional) rename the layer\n",
    "4. (optional) change the color and points size for easier visualization\n",
    "5. click to add the annotation point\n",
    "6. (optional) use the `napari` functions to move/delete points\n",
    "7. save the annotation to the `SpatialData` object by pressing `Shift + E` (if you called `Interactive()` passing multiple `SpatialData` objects, the annotations will be saved to one of them).\n"
   ]
  },
  {
   "attachments": {},
   "cell_type": "markdown",
   "id": "de40a8c6-4e84-4595-816a-2f442f5be320",
   "metadata": {
    "tags": []
   },
   "source": [
    "![](attachments/landmarks1.gif)"
   ]
  },
  {
   "attachments": {},
   "cell_type": "markdown",
   "id": "5890a6dc",
   "metadata": {},
   "source": [
    "For reproducibility, we hardcoded in this notebook the landmark annotations for the Visium and Xenium data. We will add them to the respective `SpatialData` objects, both in-memory and on-disk, as if they were were saved with napari."
   ]
  },
  {
   "cell_type": "code",
   "execution_count": 5,
   "id": "9d6ba021",
   "metadata": {
    "ExecuteTime": {
     "end_time": "2023-04-10T18:56:53.392894Z",
     "start_time": "2023-04-10T18:56:53.353994Z"
    },
    "tags": []
   },
   "outputs": [],
   "source": [
    "from spatialdata.models import ShapesModel\n",
    "\n",
    "visium_landmarks = ShapesModel.parse(\n",
    "    np.array([[10556.699, 7829.764], [13959.155, 13522.025], [10621.200, 17392.116]]), geometry=0, radius=500\n",
    ")\n",
    "visium_sdata.add_shapes(\"visium_landmarks\", visium_landmarks, overwrite=True)\n",
    "\n",
    "xenium_landmarks = ShapesModel.parse(\n",
    "    np.array([[9438.385, 13933.017], [24847.866, 5948.002], [34082.584, 15234.235]]), geometry=0, radius=500\n",
    ")\n",
    "xenium_sdata.add_shapes(\"xenium_landmarks\", xenium_landmarks, overwrite=True)"
   ]
  },
  {
   "attachments": {},
   "cell_type": "markdown",
   "id": "b2b382d7",
   "metadata": {},
   "source": [
    "## Finding the affine similarity transformation\n",
    "\n",
    "### Aligning the images\n",
    "\n",
    "We will now use the landmarks to find a similarity affine transformations that maps the Visium image onto the Xenium one."
   ]
  },
  {
   "cell_type": "code",
   "execution_count": 6,
   "id": "d8f6dff4-ff07-495d-b29f-1e20e3f49d84",
   "metadata": {
    "ExecuteTime": {
     "end_time": "2023-04-10T19:09:31.490570Z",
     "start_time": "2023-04-10T19:09:31.453640Z"
    },
    "tags": []
   },
   "outputs": [
    {
     "data": {
      "text/plain": [
       "Affine (x, y -> x, y)\n",
       "    [ 1.61711846e-01  2.58258090e+00 -1.24575040e+04]\n",
       "    [-2.58258090e+00  1.61711846e-01  3.98647301e+04]\n",
       "    [0. 0. 1.]"
      ]
     },
     "execution_count": 6,
     "metadata": {},
     "output_type": "execute_result"
    }
   ],
   "source": [
    "from spatialdata.transformations import (\n",
    "    align_elements_using_landmarks,\n",
    "    get_transformation_between_landmarks,\n",
    ")\n",
    "\n",
    "affine = get_transformation_between_landmarks(\n",
    "    references_coords=xenium_sdata[\"xenium_landmarks\"], moving_coords=visium_sdata[\"visium_landmarks\"]\n",
    ")\n",
    "affine"
   ]
  },
  {
   "attachments": {},
   "cell_type": "markdown",
   "id": "5793e680",
   "metadata": {},
   "source": [
    "To apply the transformation to the Visium data, we will use the `align_elements_using_landmarks` function. This function internally calls `get_transformation_between_landmarks` and adds the transformation to the `SpatialData` object. It then returns the same affine matrix.\n",
    "\n",
    "More specifically, we will align the image `CytAssist_FFPE_Human_Breast_Cancer_full_image` from the Visium data onto the `morphology_mip` image from the Xenium data. Both images live in the `\"global\"` coordinate system (you can see this information by printing `xenium_sdata` and `visium_sdata`). The images are not aligned in the `\"global\"` coordinate system, and we want them to be aligned in a new coordinate system called `\"aligned\"`."
   ]
  },
  {
   "cell_type": "code",
   "execution_count": 7,
   "id": "e71718a2",
   "metadata": {
    "collapsed": false,
    "jupyter": {
     "outputs_hidden": false
    },
    "tags": []
   },
   "outputs": [
    {
     "data": {
      "text/plain": [
       "Sequence \n",
       "    Identity \n",
       "    Affine (x, y -> x, y)\n",
       "        [ 1.61711846e-01  2.58258090e+00 -1.24575040e+04]\n",
       "        [-2.58258090e+00  1.61711846e-01  3.98647301e+04]\n",
       "        [0. 0. 1.]"
      ]
     },
     "execution_count": 7,
     "metadata": {},
     "output_type": "execute_result"
    }
   ],
   "source": [
    "affine = align_elements_using_landmarks(\n",
    "    references_coords=xenium_sdata[\"xenium_landmarks\"],\n",
    "    moving_coords=visium_sdata[\"visium_landmarks\"],\n",
    "    reference_element=xenium_sdata[\"morphology_mip\"],\n",
    "    moving_element=visium_sdata[\"CytAssist_FFPE_Human_Breast_Cancer_full_image\"],\n",
    "    reference_coordinate_system=\"global\",\n",
    "    moving_coordinate_system=\"global\",\n",
    "    new_coordinate_system=\"aligned\",\n",
    ")\n",
    "affine"
   ]
  },
  {
   "attachments": {},
   "cell_type": "markdown",
   "id": "915cc3a2-47e5-4ec7-ac6c-8526dcbe7f6b",
   "metadata": {},
   "source": [
    "Now the Visium and the Xenium images are aligned in the `aligned` coordinate system via an affine transformation which rotates, scales and translates the data. We can see this in napari."
   ]
  },
  {
   "cell_type": "code",
   "execution_count": 8,
   "id": "fc8447f9-8fa8-4ae5-80a7-1dec18840a9b",
   "metadata": {
    "tags": []
   },
   "outputs": [],
   "source": [
    "# Interactive([visium_sdata, xenium_sdata])"
   ]
  },
  {
   "attachments": {},
   "cell_type": "markdown",
   "id": "f49d8442-0501-4a9a-965e-c86040c33758",
   "metadata": {
    "tags": []
   },
   "source": [
    "![](attachments/landmarks2.gif)"
   ]
  },
  {
   "attachments": {},
   "cell_type": "markdown",
   "id": "2ac5e715-84f5-4457-ac4a-e1addd9fb355",
   "metadata": {},
   "source": [
    "Note: the above operation doesn't modify the data, but it just modifies the alignment metadata which define how elements are positioned inside coordinate system. Both images are mapped to the `global` coordinate system (in which they are not aligned) and in the `aligned` coordinate system, where they overlap. In napari you can choose which coordinate system to visualize."
   ]
  },
  {
   "attachments": {},
   "cell_type": "markdown",
   "id": "d657aa19-8443-447c-828c-b91b5cb6cf75",
   "metadata": {
    "tags": []
   },
   "source": [
    "![](attachments/landmarks3.gif)"
   ]
  },
  {
   "attachments": {},
   "cell_type": "markdown",
   "id": "0d318e03-8c04-4cc3-9da9-0e56119def9f",
   "metadata": {},
   "source": [
    "### Aligning the rest of the elements\n",
    "\n",
    "So far we mapped the Visium image onto the Xenium image in the `aligned` coordinate system. The rest of the elements are still not aligned. To correct for this we will append the affine transformation calculated above to each transformation for each elements.\n",
    "\n",
    "*Note: this handling of transformation will become more ergonomics in the next code release, removing the need to manually append the transformation as we are doing below. We will update this notebook with the new approach.*"
   ]
  },
  {
   "cell_type": "code",
   "execution_count": 9,
   "id": "5c442fdb-94a9-488c-8d87-cfcc109f9388",
   "metadata": {
    "tags": []
   },
   "outputs": [],
   "source": [
    "from spatialdata import SpatialData\n",
    "from spatialdata.transformations import (\n",
    "    BaseTransformation,\n",
    "    Sequence,\n",
    "    get_transformation,\n",
    "    set_transformation,\n",
    ")\n",
    "\n",
    "\n",
    "def postpone_transformation(\n",
    "    sdata: SpatialData,\n",
    "    transformation: BaseTransformation,\n",
    "    source_coordinate_system: str,\n",
    "    target_coordinate_system: str,\n",
    "):\n",
    "    for element_type, element_name, element in sdata._gen_elements():\n",
    "        old_transformations = get_transformation(element, get_all=True)\n",
    "        if source_coordinate_system in old_transformations:\n",
    "            old_transformation = old_transformations[source_coordinate_system]\n",
    "            sequence = Sequence([old_transformation, transformation])\n",
    "            set_transformation(element, sequence, target_coordinate_system)\n",
    "\n",
    "\n",
    "postpone_transformation(\n",
    "    sdata=visium_sdata,\n",
    "    transformation=affine,\n",
    "    source_coordinate_system=\"global\",\n",
    "    target_coordinate_system=\"aligned\",\n",
    ")"
   ]
  },
  {
   "attachments": {},
   "cell_type": "markdown",
   "id": "1328673d-0c87-4b29-b6d7-d7609b96d394",
   "metadata": {},
   "source": [
    "Let's visualize the result of the alignment with napari."
   ]
  },
  {
   "cell_type": "code",
   "execution_count": 10,
   "id": "c7d0e066-2373-4608-a03c-ff91064c79aa",
   "metadata": {
    "tags": []
   },
   "outputs": [],
   "source": [
    "# Interactive([visium_sdata, xenium_sdata])"
   ]
  },
  {
   "attachments": {},
   "cell_type": "markdown",
   "id": "d6b443cd-9f35-45f8-9f55-9ec108b0b1d9",
   "metadata": {
    "tags": []
   },
   "source": [
    "![](attachments/landmarks4.png)"
   ]
  },
  {
   "cell_type": "code",
   "execution_count": null,
   "id": "7863a380",
   "metadata": {},
   "outputs": [],
   "source": []
  },
  {
   "attachments": {},
   "cell_type": "markdown",
   "id": "664fb04a",
   "metadata": {},
   "source": [
    "Grid"
   ]
  },
  {
   "cell_type": "code",
   "execution_count": 11,
   "id": "47351e61",
   "metadata": {},
   "outputs": [],
   "source": [
    "shapes = visium_sdata.shapes['CytAssist_FFPE_Human_Breast_Cancer']"
   ]
  },
  {
   "cell_type": "code",
   "execution_count": 12,
   "id": "d5c17674",
   "metadata": {},
   "outputs": [
    {
     "data": {
      "text/html": [
       "<div>\n",
       "<style scoped>\n",
       "    .dataframe tbody tr th:only-of-type {\n",
       "        vertical-align: middle;\n",
       "    }\n",
       "\n",
       "    .dataframe tbody tr th {\n",
       "        vertical-align: top;\n",
       "    }\n",
       "\n",
       "    .dataframe thead th {\n",
       "        text-align: right;\n",
       "    }\n",
       "</style>\n",
       "<table border=\"1\" class=\"dataframe\">\n",
       "  <thead>\n",
       "    <tr style=\"text-align: right;\">\n",
       "      <th></th>\n",
       "      <th>geometry</th>\n",
       "      <th>radius</th>\n",
       "    </tr>\n",
       "  </thead>\n",
       "  <tbody>\n",
       "    <tr>\n",
       "      <th>0</th>\n",
       "      <td>POINT (4131.000 4636.000)</td>\n",
       "      <td>63.917904</td>\n",
       "    </tr>\n",
       "    <tr>\n",
       "      <th>1</th>\n",
       "      <td>POINT (13355.000 16640.000)</td>\n",
       "      <td>63.917904</td>\n",
       "    </tr>\n",
       "    <tr>\n",
       "      <th>2</th>\n",
       "      <td>POINT (8845.000 12067.000)</td>\n",
       "      <td>63.917904</td>\n",
       "    </tr>\n",
       "    <tr>\n",
       "      <th>3</th>\n",
       "      <td>POINT (14716.000 15518.000)</td>\n",
       "      <td>63.917904</td>\n",
       "    </tr>\n",
       "    <tr>\n",
       "      <th>4</th>\n",
       "      <td>POINT (11404.000 12365.000)</td>\n",
       "      <td>63.917904</td>\n",
       "    </tr>\n",
       "    <tr>\n",
       "      <th>...</th>\n",
       "      <td>...</td>\n",
       "      <td>...</td>\n",
       "    </tr>\n",
       "    <tr>\n",
       "      <th>4987</th>\n",
       "      <td>POINT (8731.000 9049.000)</td>\n",
       "      <td>63.917904</td>\n",
       "    </tr>\n",
       "    <tr>\n",
       "      <th>4988</th>\n",
       "      <td>POINT (6598.000 4776.000)</td>\n",
       "      <td>63.917904</td>\n",
       "    </tr>\n",
       "    <tr>\n",
       "      <th>4989</th>\n",
       "      <td>POINT (10447.000 6653.000)</td>\n",
       "      <td>63.917904</td>\n",
       "    </tr>\n",
       "    <tr>\n",
       "      <th>4990</th>\n",
       "      <td>POINT (11039.000 12368.000)</td>\n",
       "      <td>63.917904</td>\n",
       "    </tr>\n",
       "    <tr>\n",
       "      <th>4991</th>\n",
       "      <td>POINT (3720.000 10518.000)</td>\n",
       "      <td>63.917904</td>\n",
       "    </tr>\n",
       "  </tbody>\n",
       "</table>\n",
       "<p>4992 rows × 2 columns</p>\n",
       "</div>"
      ],
      "text/plain": [
       "                         geometry     radius\n",
       "0       POINT (4131.000 4636.000)  63.917904\n",
       "1     POINT (13355.000 16640.000)  63.917904\n",
       "2      POINT (8845.000 12067.000)  63.917904\n",
       "3     POINT (14716.000 15518.000)  63.917904\n",
       "4     POINT (11404.000 12365.000)  63.917904\n",
       "...                           ...        ...\n",
       "4987    POINT (8731.000 9049.000)  63.917904\n",
       "4988    POINT (6598.000 4776.000)  63.917904\n",
       "4989   POINT (10447.000 6653.000)  63.917904\n",
       "4990  POINT (11039.000 12368.000)  63.917904\n",
       "4991   POINT (3720.000 10518.000)  63.917904\n",
       "\n",
       "[4992 rows x 2 columns]"
      ]
     },
     "execution_count": 12,
     "metadata": {},
     "output_type": "execute_result"
    }
   ],
   "source": [
    "shapes"
   ]
  },
  {
   "cell_type": "code",
   "execution_count": 13,
   "id": "6a498032",
   "metadata": {},
   "outputs": [],
   "source": [
    "import pandas as pd\n",
    "import numpy as np\n",
    "import matplotlib.pyplot as plt\n",
    "import shapely.geometry\n",
    "import geopandas as gpd\n",
    "from spatialdata import aggregate"
   ]
  },
  {
   "cell_type": "code",
   "execution_count": 14,
   "id": "2bd427e5",
   "metadata": {},
   "outputs": [
    {
     "data": {
      "text/html": [
       "<div>\n",
       "<style scoped>\n",
       "    .dataframe tbody tr th:only-of-type {\n",
       "        vertical-align: middle;\n",
       "    }\n",
       "\n",
       "    .dataframe tbody tr th {\n",
       "        vertical-align: top;\n",
       "    }\n",
       "\n",
       "    .dataframe thead th {\n",
       "        text-align: right;\n",
       "    }\n",
       "</style>\n",
       "<table border=\"1\" class=\"dataframe\">\n",
       "  <thead>\n",
       "    <tr style=\"text-align: right;\">\n",
       "      <th></th>\n",
       "      <th>geometry</th>\n",
       "      <th>radius</th>\n",
       "    </tr>\n",
       "  </thead>\n",
       "  <tbody>\n",
       "    <tr>\n",
       "      <th>0</th>\n",
       "      <td>POINT (4131.000 4636.000)</td>\n",
       "      <td>63.917904</td>\n",
       "    </tr>\n",
       "    <tr>\n",
       "      <th>1</th>\n",
       "      <td>POINT (13355.000 16640.000)</td>\n",
       "      <td>63.917904</td>\n",
       "    </tr>\n",
       "    <tr>\n",
       "      <th>2</th>\n",
       "      <td>POINT (8845.000 12067.000)</td>\n",
       "      <td>63.917904</td>\n",
       "    </tr>\n",
       "    <tr>\n",
       "      <th>3</th>\n",
       "      <td>POINT (14716.000 15518.000)</td>\n",
       "      <td>63.917904</td>\n",
       "    </tr>\n",
       "    <tr>\n",
       "      <th>4</th>\n",
       "      <td>POINT (11404.000 12365.000)</td>\n",
       "      <td>63.917904</td>\n",
       "    </tr>\n",
       "    <tr>\n",
       "      <th>...</th>\n",
       "      <td>...</td>\n",
       "      <td>...</td>\n",
       "    </tr>\n",
       "    <tr>\n",
       "      <th>4987</th>\n",
       "      <td>POINT (8731.000 9049.000)</td>\n",
       "      <td>63.917904</td>\n",
       "    </tr>\n",
       "    <tr>\n",
       "      <th>4988</th>\n",
       "      <td>POINT (6598.000 4776.000)</td>\n",
       "      <td>63.917904</td>\n",
       "    </tr>\n",
       "    <tr>\n",
       "      <th>4989</th>\n",
       "      <td>POINT (10447.000 6653.000)</td>\n",
       "      <td>63.917904</td>\n",
       "    </tr>\n",
       "    <tr>\n",
       "      <th>4990</th>\n",
       "      <td>POINT (11039.000 12368.000)</td>\n",
       "      <td>63.917904</td>\n",
       "    </tr>\n",
       "    <tr>\n",
       "      <th>4991</th>\n",
       "      <td>POINT (3720.000 10518.000)</td>\n",
       "      <td>63.917904</td>\n",
       "    </tr>\n",
       "  </tbody>\n",
       "</table>\n",
       "<p>4992 rows × 2 columns</p>\n",
       "</div>"
      ],
      "text/plain": [
       "                         geometry     radius\n",
       "0       POINT (4131.000 4636.000)  63.917904\n",
       "1     POINT (13355.000 16640.000)  63.917904\n",
       "2      POINT (8845.000 12067.000)  63.917904\n",
       "3     POINT (14716.000 15518.000)  63.917904\n",
       "4     POINT (11404.000 12365.000)  63.917904\n",
       "...                           ...        ...\n",
       "4987    POINT (8731.000 9049.000)  63.917904\n",
       "4988    POINT (6598.000 4776.000)  63.917904\n",
       "4989   POINT (10447.000 6653.000)  63.917904\n",
       "4990  POINT (11039.000 12368.000)  63.917904\n",
       "4991   POINT (3720.000 10518.000)  63.917904\n",
       "\n",
       "[4992 rows x 2 columns]"
      ]
     },
     "execution_count": 14,
     "metadata": {},
     "output_type": "execute_result"
    }
   ],
   "source": [
    "shapes"
   ]
  },
  {
   "cell_type": "code",
   "execution_count": 15,
   "id": "f2a1f22c",
   "metadata": {},
   "outputs": [],
   "source": [
    "gdf = gpd.GeoDataFrame(shapes, geometry=gpd.points_from_xy(shapes['geometry'].x, shapes['geometry'].y))"
   ]
  },
  {
   "cell_type": "code",
   "execution_count": 16,
   "id": "416e9eb2",
   "metadata": {},
   "outputs": [],
   "source": [
    "# total area for the grid\n",
    "xmin, ymin, xmax, ymax = gdf.total_bounds\n",
    "xmax, ymax = xmax, ymax\n",
    "# how many cells across and down\n",
    "n_cells = np.sqrt(gdf.shape[0])\n",
    "cell_size = (xmax-xmin)/n_cells\n",
    "# create the cells in a loop\n",
    "grid_cells = []\n",
    "for x0 in np.arange(xmin, xmax+cell_size, cell_size ):\n",
    "    for y0 in np.arange(ymin, ymax+cell_size, cell_size):\n",
    "        # bounds\n",
    "        x1 = x0-cell_size\n",
    "        y1 = y0+cell_size\n",
    "        grid_cells.append( shapely.geometry.box(x0, y0, x1, y1)  )\n",
    "cell = gpd.GeoDataFrame(grid_cells, columns=['geometry'])"
   ]
  },
  {
   "cell_type": "code",
   "execution_count": 17,
   "id": "a5d5d6c6",
   "metadata": {},
   "outputs": [
    {
     "data": {
      "text/plain": [
       "(3091.6, 15948.4, 3935.95, 17489.05)"
      ]
     },
     "execution_count": 17,
     "metadata": {},
     "output_type": "execute_result"
    },
    {
     "data": {
      "image/png": "[encoded data removed]",
      "text/plain": [
       "<Figure size 1200x800 with 1 Axes>"
      ]
     },
     "metadata": {},
     "output_type": "display_data"
    }
   ],
   "source": [
    "ax = gdf.plot(markersize=5, figsize=(12, 8))\n",
    "plt.autoscale(False)\n",
    "cell.plot(ax=ax, facecolor=\"none\", edgecolor='grey')\n",
    "ax.axis(\"off\")"
   ]
  },
  {
   "cell_type": "code",
   "execution_count": 18,
   "id": "ec601583",
   "metadata": {},
   "outputs": [
    {
     "data": {
      "text/html": [
       "<div>\n",
       "<style scoped>\n",
       "    .dataframe tbody tr th:only-of-type {\n",
       "        vertical-align: middle;\n",
       "    }\n",
       "\n",
       "    .dataframe tbody tr th {\n",
       "        vertical-align: top;\n",
       "    }\n",
       "\n",
       "    .dataframe thead th {\n",
       "        text-align: right;\n",
       "    }\n",
       "</style>\n",
       "<table border=\"1\" class=\"dataframe\">\n",
       "  <thead>\n",
       "    <tr style=\"text-align: right;\">\n",
       "      <th></th>\n",
       "      <th>geometry</th>\n",
       "      <th>radius</th>\n",
       "    </tr>\n",
       "  </thead>\n",
       "  <tbody>\n",
       "    <tr>\n",
       "      <th>0</th>\n",
       "      <td>POINT (4131.000 4636.000)</td>\n",
       "      <td>63.917904</td>\n",
       "    </tr>\n",
       "    <tr>\n",
       "      <th>1</th>\n",
       "      <td>POINT (13355.000 16640.000)</td>\n",
       "      <td>63.917904</td>\n",
       "    </tr>\n",
       "    <tr>\n",
       "      <th>2</th>\n",
       "      <td>POINT (8845.000 12067.000)</td>\n",
       "      <td>63.917904</td>\n",
       "    </tr>\n",
       "    <tr>\n",
       "      <th>3</th>\n",
       "      <td>POINT (14716.000 15518.000)</td>\n",
       "      <td>63.917904</td>\n",
       "    </tr>\n",
       "    <tr>\n",
       "      <th>4</th>\n",
       "      <td>POINT (11404.000 12365.000)</td>\n",
       "      <td>63.917904</td>\n",
       "    </tr>\n",
       "    <tr>\n",
       "      <th>...</th>\n",
       "      <td>...</td>\n",
       "      <td>...</td>\n",
       "    </tr>\n",
       "    <tr>\n",
       "      <th>4987</th>\n",
       "      <td>POINT (8731.000 9049.000)</td>\n",
       "      <td>63.917904</td>\n",
       "    </tr>\n",
       "    <tr>\n",
       "      <th>4988</th>\n",
       "      <td>POINT (6598.000 4776.000)</td>\n",
       "      <td>63.917904</td>\n",
       "    </tr>\n",
       "    <tr>\n",
       "      <th>4989</th>\n",
       "      <td>POINT (10447.000 6653.000)</td>\n",
       "      <td>63.917904</td>\n",
       "    </tr>\n",
       "    <tr>\n",
       "      <th>4990</th>\n",
       "      <td>POINT (11039.000 12368.000)</td>\n",
       "      <td>63.917904</td>\n",
       "    </tr>\n",
       "    <tr>\n",
       "      <th>4991</th>\n",
       "      <td>POINT (3720.000 10518.000)</td>\n",
       "      <td>63.917904</td>\n",
       "    </tr>\n",
       "  </tbody>\n",
       "</table>\n",
       "<p>4992 rows × 2 columns</p>\n",
       "</div>"
      ],
      "text/plain": [
       "                         geometry     radius\n",
       "0       POINT (4131.000 4636.000)  63.917904\n",
       "1     POINT (13355.000 16640.000)  63.917904\n",
       "2      POINT (8845.000 12067.000)  63.917904\n",
       "3     POINT (14716.000 15518.000)  63.917904\n",
       "4     POINT (11404.000 12365.000)  63.917904\n",
       "...                           ...        ...\n",
       "4987    POINT (8731.000 9049.000)  63.917904\n",
       "4988    POINT (6598.000 4776.000)  63.917904\n",
       "4989   POINT (10447.000 6653.000)  63.917904\n",
       "4990  POINT (11039.000 12368.000)  63.917904\n",
       "4991   POINT (3720.000 10518.000)  63.917904\n",
       "\n",
       "[4992 rows x 2 columns]"
      ]
     },
     "execution_count": 18,
     "metadata": {},
     "output_type": "execute_result"
    }
   ],
   "source": [
    "gdf"
   ]
  },
  {
   "cell_type": "code",
   "execution_count": 19,
   "id": "7438035b",
   "metadata": {},
   "outputs": [],
   "source": [
    "sdata_grid = SpatialData(shapes={\"grid\": ShapesModel.parse(gdf)})"
   ]
  },
  {
   "cell_type": "code",
   "execution_count": 20,
   "id": "4e497214",
   "metadata": {},
   "outputs": [],
   "source": [
    "visium_sdata.shapes['grid'] = ShapesModel.parse(gdf)"
   ]
  },
  {
   "cell_type": "code",
   "execution_count": 21,
   "id": "b0b8db36",
   "metadata": {},
   "outputs": [
    {
     "name": "stderr",
     "output_type": "stream",
     "text": [
      "/home/dbdimitrov/anaconda3/envs/spatialdata/lib/python3.10/site-packages/spatialdata/_utils.py:209: FutureWarning: is_categorical_dtype is deprecated and will be removed in a future version. Use isinstance(dtype, CategoricalDtype) instead\n",
      "  is_categorical = pd.api.types.is_categorical_dtype(obs[column])\n",
      "/home/dbdimitrov/anaconda3/envs/spatialdata/lib/python3.10/site-packages/spatialdata/_utils.py:212: ImplicitModificationWarning: Trying to modify attribute `.obs` of view, initializing view as actual.\n",
      "  obs[column] = c\n",
      "/home/dbdimitrov/anaconda3/envs/spatialdata/lib/python3.10/site-packages/spatialdata/_core/operations/aggregate.py:369: FutureWarning: is_categorical_dtype is deprecated and will be removed in a future version. Use isinstance(dtype, CategoricalDtype) instead\n",
      "  categorical = pd.api.types.is_categorical_dtype(actual_values.iloc[:, 0])\n",
      "/home/dbdimitrov/anaconda3/envs/spatialdata/lib/python3.10/site-packages/anndata/_core/anndata.py:522: FutureWarning: The dtype argument is deprecated and will be removed in late 2024.\n",
      "  warnings.warn(\n",
      "/home/dbdimitrov/anaconda3/envs/spatialdata/lib/python3.10/site-packages/anndata/_core/anndata.py:183: ImplicitModificationWarning: Transforming to str index.\n",
      "  warnings.warn(\"Transforming to str index.\", ImplicitModificationWarning)\n",
      "/home/dbdimitrov/anaconda3/envs/spatialdata/lib/python3.10/site-packages/spatialdata/models/models.py:725: FutureWarning: is_categorical_dtype is deprecated and will be removed in a future version. Use isinstance(dtype, CategoricalDtype) instead\n",
      "  if not is_categorical_dtype(adata.obs[region_key]):\n",
      "/home/dbdimitrov/anaconda3/envs/spatialdata/lib/python3.10/site-packages/spatialdata/_core/operations/aggregate.py:244: UserWarning: Converting `region_key: region` to categorical dtype.\n",
      "  table = TableModel.parse(table, region=shapes_name, region_key=region_key, instance_key=instance_key)\n"
     ]
    }
   ],
   "source": [
    "gridium = visium_sdata.aggregate(\n",
    "    by=\"grid\",\n",
    "    value_key=[\"ADAM9\"], # value keys to be defined\n",
    "    values=\"CytAssist_FFPE_Human_Breast_Cancer\",\n",
    "    target_coordinate_system=\"global\",\n",
    ")"
   ]
  },
  {
   "cell_type": "code",
   "execution_count": null,
   "id": "bde69088",
   "metadata": {},
   "outputs": [],
   "source": []
  },
  {
   "cell_type": "code",
   "execution_count": 22,
   "id": "474410bd-2d02-45c1-b073-eba1152ab615",
   "metadata": {
    "tags": []
   },
   "outputs": [],
   "source": [
    "# from spatialdata import save_transformations\n",
    "\n",
    "# save_transformations(visium_sdata)\n",
    "# save_transformations(xenium_sdata)"
   ]
  },
  {
   "attachments": {},
   "cell_type": "markdown",
   "id": "1a2046ae",
   "metadata": {},
   "source": [
    "SET!"
   ]
  },
  {
   "cell_type": "code",
   "execution_count": 23,
   "id": "9f2bf35b",
   "metadata": {},
   "outputs": [],
   "source": [
    "set_transformation(visium_sdata.shapes['CytAssist_FFPE_Human_Breast_Cancer'], affine, 'aligned')"
   ]
  },
  {
   "cell_type": "code",
   "execution_count": 24,
   "id": "24ee9409",
   "metadata": {},
   "outputs": [],
   "source": [
    "visium_sdata = visium_sdata.transform_to_coordinate_system('aligned')"
   ]
  },
  {
   "cell_type": "code",
   "execution_count": 25,
   "id": "aae7b733",
   "metadata": {},
   "outputs": [],
   "source": [
    "set_transformation(gridium.shapes['grid'], affine, 'aligned')\n",
    "gridium = gridium.transform_to_coordinate_system('aligned')"
   ]
  },
  {
   "cell_type": "code",
   "execution_count": null,
   "metadata": {},
   "outputs": [],
   "source": []
  },
  {
   "attachments": {},
   "cell_type": "markdown",
   "id": "d871cd5e",
   "metadata": {},
   "source": []
  },
  {
   "cell_type": "code",
   "execution_count": 26,
   "id": "541ebd9d",
   "metadata": {},
   "outputs": [],
   "source": [
    "xenium_sdata.add_shapes(\"grid\", gridium.shapes['grid'], overwrite=True)"
   ]
  },
  {
   "cell_type": "code",
   "execution_count": 27,
   "id": "4577d128",
   "metadata": {},
   "outputs": [
    {
     "data": {
      "text/plain": [
       "array(['ABCC11', 'ACTA2', 'ACTG2', 'ADAM9', 'ADGRE5', 'ADH1B', 'ADIPOQ',\n",
       "       'AGR3', 'AHSP', 'AIF1', 'AKR1C3', 'ALDH1A3', 'ANKRD28', 'ANKRD29',\n",
       "       'ANKRD30A', 'APOBEC3A', 'APOBEC3B', 'APOC1', 'AQP1', 'AQP3'],\n",
       "      dtype=object)"
      ]
     },
     "execution_count": 27,
     "metadata": {},
     "output_type": "execute_result"
    }
   ],
   "source": [
    "np.intersect1d(xenium_sdata.table.var.index, visium_sdata.table.var.index)[0:20]"
   ]
  },
  {
   "attachments": {},
   "cell_type": "markdown",
   "id": "3dd3c555",
   "metadata": {},
   "source": [
    "Aggregate points by shape"
   ]
  },
  {
   "cell_type": "code",
   "execution_count": 28,
   "id": "e4475616",
   "metadata": {},
   "outputs": [],
   "source": [
    "# xenium_sdata['transcripts'].compute()"
   ]
  },
  {
   "cell_type": "code",
   "execution_count": 29,
   "id": "c7cfa8c3",
   "metadata": {},
   "outputs": [],
   "source": [
    "# set_transformation(xenium_sdata.points['transcripts'], affine, 'aligned')\n",
    "\n",
    "# xenium_grid = xenium_sdata.aggregate(\n",
    "#     values=\"transcripts\",\n",
    "#     by=\"grid\",\n",
    "#     value_key=[\"feature_name\"], # value keys to be defined\n",
    "#     target_coordinate_system=\"aligned\",\n",
    "# )"
   ]
  },
  {
   "cell_type": "code",
   "execution_count": null,
   "id": "6e770e0f",
   "metadata": {},
   "outputs": [],
   "source": []
  },
  {
   "attachments": {},
   "cell_type": "markdown",
   "id": "2f6fdd76",
   "metadata": {},
   "source": [
    "Transform to Grid"
   ]
  },
  {
   "cell_type": "code",
   "execution_count": 38,
   "id": "4ebf5ee8",
   "metadata": {},
   "outputs": [],
   "source": [
    "from spatialdata.transformations import (\n",
    "    Affine,\n",
    "    Identity,\n",
    "    MapAxis,\n",
    "    Scale,\n",
    "    Sequence,\n",
    "    Translation,\n",
    "    get_transformation,\n",
    "    get_transformation_between_coordinate_systems,\n",
    "    set_transformation,\n",
    ")"
   ]
  },
  {
   "cell_type": "code",
   "execution_count": 39,
   "id": "f3e6d4cd",
   "metadata": {},
   "outputs": [
    {
     "data": {
      "text/plain": [
       "array([  132.09562257,  1208.18522038, 33358.52059827, 32859.54662596])"
      ]
     },
     "execution_count": 39,
     "metadata": {},
     "output_type": "execute_result"
    }
   ],
   "source": [
    "xenium_sdata.shapes['grid'].total_bounds"
   ]
  },
  {
   "cell_type": "code",
   "execution_count": 46,
   "id": "47768e13",
   "metadata": {},
   "outputs": [],
   "source": [
    "map_axis = MapAxis({\"x\": \"y\", \"x\": \"y\"})"
   ]
  },
  {
   "cell_type": "code",
   "execution_count": 47,
   "id": "25c345c9",
   "metadata": {},
   "outputs": [],
   "source": [
    "set_transformation(xenium_sdata.shapes['cell_circles'], map_axis, 'aligned')\n",
    "set_transformation(xenium_sdata.shapes['grid'], map_axis, 'aligned')\n"
   ]
  },
  {
   "cell_type": "code",
   "execution_count": 48,
   "id": "9edf5e0f",
   "metadata": {},
   "outputs": [
    {
     "data": {
      "text/plain": [
       "{'global': Scale (x, y)\n",
       "     [4.70588235 4.70588235],\n",
       " 'aligned': MapAxis \n",
       "     x <- y}"
      ]
     },
     "execution_count": 48,
     "metadata": {},
     "output_type": "execute_result"
    }
   ],
   "source": [
    "get_transformation(xenium_sdata.shapes['cell_circles'], get_all=True)"
   ]
  },
  {
   "cell_type": "code",
   "execution_count": 49,
   "id": "99a5e4c0",
   "metadata": {},
   "outputs": [
    {
     "name": "stdout",
     "output_type": "stream",
     "text": [
      "\u001b[31mWARNING \u001b[0m The transformation matrix is not isotropic, the radius will be scaled by the average of the eigenvalues of\n",
      "         the affine transformation matrix                                                                          \n",
      "\u001b[31mWARNING \u001b[0m The transformation matrix is not isotropic, the radius will be scaled by the average of the eigenvalues of\n",
      "         the affine transformation matrix                                                                          \n"
     ]
    },
    {
     "name": "stderr",
     "output_type": "stream",
     "text": [
      "/home/dbdimitrov/anaconda3/envs/spatialdata/lib/python3.10/site-packages/spatialdata/_utils.py:209: FutureWarning: is_categorical_dtype is deprecated and will be removed in a future version. Use isinstance(dtype, CategoricalDtype) instead\n",
      "  is_categorical = pd.api.types.is_categorical_dtype(obs[column])\n",
      "/home/dbdimitrov/anaconda3/envs/spatialdata/lib/python3.10/site-packages/spatialdata/_utils.py:212: ImplicitModificationWarning: Trying to modify attribute `.obs` of view, initializing view as actual.\n",
      "  obs[column] = c\n",
      "/home/dbdimitrov/anaconda3/envs/spatialdata/lib/python3.10/site-packages/spatialdata/_core/operations/aggregate.py:369: FutureWarning: is_categorical_dtype is deprecated and will be removed in a future version. Use isinstance(dtype, CategoricalDtype) instead\n",
      "  categorical = pd.api.types.is_categorical_dtype(actual_values.iloc[:, 0])\n",
      "/home/dbdimitrov/anaconda3/envs/spatialdata/lib/python3.10/site-packages/anndata/_core/anndata.py:522: FutureWarning: The dtype argument is deprecated and will be removed in late 2024.\n",
      "  warnings.warn(\n",
      "/home/dbdimitrov/anaconda3/envs/spatialdata/lib/python3.10/site-packages/anndata/_core/anndata.py:183: ImplicitModificationWarning: Transforming to str index.\n",
      "  warnings.warn(\"Transforming to str index.\", ImplicitModificationWarning)\n",
      "/home/dbdimitrov/anaconda3/envs/spatialdata/lib/python3.10/site-packages/spatialdata/models/models.py:725: FutureWarning: is_categorical_dtype is deprecated and will be removed in a future version. Use isinstance(dtype, CategoricalDtype) instead\n",
      "  if not is_categorical_dtype(adata.obs[region_key]):\n",
      "/home/dbdimitrov/anaconda3/envs/spatialdata/lib/python3.10/site-packages/spatialdata/_core/operations/aggregate.py:244: UserWarning: Converting `region_key: region` to categorical dtype.\n",
      "  table = TableModel.parse(table, region=shapes_name, region_key=region_key, instance_key=instance_key)\n"
     ]
    }
   ],
   "source": [
    "xenium_grid = xenium_sdata.aggregate(\n",
    "    by=\"grid\",\n",
    "    value_key=[\"ADAM9\"], # value keys to be defined\n",
    "    values=\"cell_circles\",\n",
    "    target_coordinate_system=\"aligned\",\n",
    ")"
   ]
  },
  {
   "cell_type": "code",
   "execution_count": null,
   "id": "cf688df2",
   "metadata": {},
   "outputs": [],
   "source": []
  },
  {
   "cell_type": "code",
   "execution_count": 50,
   "id": "e8a646df",
   "metadata": {},
   "outputs": [
    {
     "data": {
      "text/plain": [
       "array([2.13251610e+00, 1.36715559e+00, 7.52308687e+03, 5.47626611e+03])"
      ]
     },
     "execution_count": 50,
     "metadata": {},
     "output_type": "execute_result"
    }
   ],
   "source": [
    "xenium_sdata.shapes['cell_circles'].total_bounds"
   ]
  },
  {
   "cell_type": "code",
   "execution_count": null,
   "id": "e27718aa",
   "metadata": {},
   "outputs": [],
   "source": []
  },
  {
   "cell_type": "code",
   "execution_count": null,
   "id": "3005953d",
   "metadata": {},
   "outputs": [],
   "source": [
    "# plot geopandas dataframe\n",
    "xenium_sdata.shapes['grid'].plot()"
   ]
  },
  {
   "cell_type": "code",
   "execution_count": null,
   "id": "e692dd7b",
   "metadata": {},
   "outputs": [],
   "source": [
    "gridium.shapes['grid'].plot()"
   ]
  },
  {
   "cell_type": "code",
   "execution_count": null,
   "id": "f91b1dc7",
   "metadata": {},
   "outputs": [],
   "source": [
    "xenium_grid.shapes['grid'].total_bounds"
   ]
  },
  {
   "cell_type": "code",
   "execution_count": null,
   "id": "fd3e83bf",
   "metadata": {},
   "outputs": [],
   "source": [
    "from matplotlib import pyplot as plt\n",
    "plt.hist(xenium_grid.table.X.A)"
   ]
  },
  {
   "cell_type": "code",
   "execution_count": null,
   "id": "ff5cb77f",
   "metadata": {},
   "outputs": [],
   "source": []
  },
  {
   "cell_type": "code",
   "execution_count": null,
   "id": "761136ae",
   "metadata": {},
   "outputs": [],
   "source": [
    "xenium_sdata.table[:, [\"ADAM9\"]].X.sum()"
   ]
  },
  {
   "cell_type": "code",
   "execution_count": null,
   "id": "f7193017",
   "metadata": {},
   "outputs": [],
   "source": [
    "np.sum(xenium_grid.table.X)"
   ]
  },
  {
   "cell_type": "code",
   "execution_count": null,
   "id": "c5444f66",
   "metadata": {},
   "outputs": [],
   "source": [
    "import spatialdata_plot\n"
   ]
  },
  {
   "cell_type": "code",
   "execution_count": null,
   "id": "a3619341",
   "metadata": {},
   "outputs": [],
   "source": [
    "xenium_sdata.pl.render_images().pl.render_shapes('xenium_landmarks').pl.show()"
   ]
  },
  {
   "cell_type": "code",
   "execution_count": null,
   "id": "b2905c20",
   "metadata": {},
   "outputs": [],
   "source": []
  },
  {
   "cell_type": "code",
   "execution_count": null,
   "id": "6eff7c3e",
   "metadata": {},
   "outputs": [],
   "source": []
  },
  {
   "attachments": {},
   "cell_type": "markdown",
   "id": "c14b9e70",
   "metadata": {},
   "source": [
    "Process"
   ]
  },
  {
   "cell_type": "code",
   "execution_count": null,
   "id": "622c4656",
   "metadata": {},
   "outputs": [],
   "source": [
    "sc.pp.filter_cells(visium_sdata.table, min_genes=200)\n",
    "sc.pp.filter_genes(visium_sdata.table, min_cells=3)\n",
    "sc.pp.normalize_total(visium_sdata.table)\n",
    "sc.pp.log1p(visium_sdata.table)\n",
    "# sc.pp.pca(visium_sdata.table)\n",
    "# sc.pp.neighbors(visium_sdata.table)"
   ]
  },
  {
   "cell_type": "code",
   "execution_count": null,
   "id": "b4423388",
   "metadata": {},
   "outputs": [],
   "source": []
  },
  {
   "cell_type": "code",
   "execution_count": null,
   "id": "d835564a",
   "metadata": {},
   "outputs": [],
   "source": [
    "sq.pl.spatial_scatter(visium_sdata.table, color=\"FOXA1\", img=False, size=size)"
   ]
  },
  {
   "cell_type": "code",
   "execution_count": null,
   "id": "b289cdb3",
   "metadata": {},
   "outputs": [],
   "source": [
    "sc.pp.filter_cells(xenium_sdata.table, min_genes=10)\n",
    "sc.pp.filter_genes(xenium_sdata.table, min_cells=3)\n",
    "sc.pp.normalize_total(xenium_sdata.table)\n",
    "sc.pp.log1p(xenium_sdata.table)"
   ]
  },
  {
   "cell_type": "code",
   "execution_count": null,
   "id": "9a4363b3",
   "metadata": {},
   "outputs": [],
   "source": [
    "sq.pl.spatial_scatter(xenium_sdata.table, shape=None, color=\"FOXA1\", img=False)"
   ]
  },
  {
   "cell_type": "code",
   "execution_count": null,
   "id": "fd9ef71f",
   "metadata": {},
   "outputs": [],
   "source": []
  },
  {
   "cell_type": "code",
   "execution_count": null,
   "id": "39d240be",
   "metadata": {},
   "outputs": [],
   "source": [
    "# only keep genes that are found in both datasets\n",
    "common_genes = np.intersect1d(visium_sdata.table.var_names, xenium_sdata.table.var_names)\n",
    "visium = visium_sdata.table[:, common_genes].copy()\n",
    "xenium = xenium_sdata.table[:, common_genes].copy()"
   ]
  },
  {
   "cell_type": "code",
   "execution_count": null,
   "id": "8ccfbfd8",
   "metadata": {},
   "outputs": [],
   "source": []
  },
  {
   "cell_type": "code",
   "execution_count": null,
   "id": "3c2833ef",
   "metadata": {},
   "outputs": [],
   "source": [
    "from mudata import MuData"
   ]
  },
  {
   "cell_type": "code",
   "execution_count": null,
   "id": "b47e6640",
   "metadata": {},
   "outputs": [],
   "source": [
    "import liana as li"
   ]
  },
  {
   "cell_type": "code",
   "execution_count": null,
   "id": "82a3d8e1",
   "metadata": {},
   "outputs": [],
   "source": [
    "visium = visium[~np.isnan(visium.obsm['spatial']).any(axis=1)]"
   ]
  },
  {
   "cell_type": "code",
   "execution_count": null,
   "id": "b7b33a63",
   "metadata": {},
   "outputs": [],
   "source": [
    "mdata = MuData({\"intra\":visium, \"extra\":xenium})"
   ]
  },
  {
   "cell_type": "code",
   "execution_count": null,
   "id": "f9df39a0",
   "metadata": {},
   "outputs": [],
   "source": [
    "mdata"
   ]
  },
  {
   "cell_type": "code",
   "execution_count": null,
   "id": "430bed5d",
   "metadata": {},
   "outputs": [],
   "source": [
    "p, df = li.ut.query_bandwidth(coordinates=visium.obsm['spatial'], interval_n=20, start=0, end=1000)"
   ]
  },
  {
   "cell_type": "code",
   "execution_count": null,
   "id": "58c32005",
   "metadata": {},
   "outputs": [],
   "source": [
    "p"
   ]
  },
  {
   "cell_type": "code",
   "execution_count": null,
   "id": "969c12a9",
   "metadata": {},
   "outputs": [],
   "source": []
  },
  {
   "cell_type": "code",
   "execution_count": null,
   "id": "15687d9a",
   "metadata": {},
   "outputs": [],
   "source": [
    "p, df = li.ut.query_bandwidth(coordinates=visium.obsm['spatial'], reference=xenium.obsm['spatial'], interval_n=20, start=0, end=1500)"
   ]
  },
  {
   "cell_type": "code",
   "execution_count": null,
   "id": "f02e6820",
   "metadata": {},
   "outputs": [],
   "source": [
    "p"
   ]
  },
  {
   "cell_type": "code",
   "execution_count": null,
   "id": "300446c2",
   "metadata": {},
   "outputs": [],
   "source": []
  },
  {
   "cell_type": "code",
   "execution_count": null,
   "id": "49a07877",
   "metadata": {},
   "outputs": [],
   "source": [
    "li.ut.spatial_neighbors(xenium, bandwidth=1500, cutoff=0.1, spatial_key=\"spatial\", reference=visium.obsm['spatial'], max_neighbours=500, set_diag=False, standardize=False)"
   ]
  },
  {
   "cell_type": "code",
   "execution_count": null,
   "id": "4afc8c80",
   "metadata": {},
   "outputs": [],
   "source": [
    "misty = li.mt.MistyData(mdata, enforce_obs=False, obs=mdata.obs)"
   ]
  },
  {
   "cell_type": "code",
   "execution_count": null,
   "id": "54588c8d",
   "metadata": {},
   "outputs": [],
   "source": [
    "misty.mod['intra'] = misty.mod['intra'][:,0:25]"
   ]
  },
  {
   "cell_type": "code",
   "execution_count": null,
   "id": "62d0b22f",
   "metadata": {},
   "outputs": [],
   "source": [
    "misty"
   ]
  },
  {
   "cell_type": "code",
   "execution_count": null,
   "id": "b4068dc7",
   "metadata": {},
   "outputs": [],
   "source": [
    "misty(model='linear', verbose=True, bypass_intra=True)"
   ]
  },
  {
   "cell_type": "code",
   "execution_count": null,
   "id": "99c7cb80",
   "metadata": {},
   "outputs": [],
   "source": [
    "misty.uns['target_metrics'].sort_values(\"multi_R2\")"
   ]
  },
  {
   "cell_type": "code",
   "execution_count": null,
   "id": "502f56a7",
   "metadata": {},
   "outputs": [],
   "source": []
  }
 ],
 "metadata": {
  "kernelspec": {
   "display_name": "spatialdata",
   "language": "python",
   "name": "python3"
  },
  "language_info": {
   "codemirror_mode": {
    "name": "ipython",
    "version": 3
   },
   "file_extension": ".py",
   "mimetype": "text/x-python",
   "name": "python",
   "nbconvert_exporter": "python",
   "pygments_lexer": "ipython3",
   "version": "3.10.12"
  }
 },
 "nbformat": 4,
 "nbformat_minor": 5
}

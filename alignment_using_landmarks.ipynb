{
 "cells": [
  {
   "attachments": {},
   "cell_type": "markdown",
   "id": "3f941ac7-6cd1-4087-ba7b-15a3d2cabf77",
   "metadata": {},
   "source": [
    "# Use landmark annotations to align multiple -omics layers"
   ]
  },
  {
   "attachments": {},
   "cell_type": "markdown",
   "id": "dee45520",
   "metadata": {},
   "source": [
    "We will align a Xenium and a Visium datasets for a breast cancer dataset.\n",
    "\n",
    "We will:\n",
    "1. load the data from Zarr;\n",
    "2. add landmark annotations to the data using napari;\n",
    "3. find an affine similarity transformation that aligns the data.\n"
   ]
  },
  {
   "attachments": {},
   "cell_type": "markdown",
   "id": "c1ecb39a",
   "metadata": {},
   "source": [
    "## Loading the data\n"
   ]
  },
  {
   "attachments": {},
   "cell_type": "markdown",
   "id": "dc11fee9",
   "metadata": {},
   "source": [
    "You can download the data from here: [Xenium dataset](https://s3.embl.de/spatialdata/spatialdata-sandbox/xenium_rep1_io.zip), [Visium dataset](https://s3.embl.de/spatialdata/spatialdata-sandbox/visium_associated_xenium_io.zip). Please rename the files to `xenium.zarr` and `visium.zarr` and place them in the same folder as this notebook (or use symlinks to make the data accessible)."
   ]
  },
  {
   "cell_type": "code",
   "execution_count": null,
   "id": "9b33ec76",
   "metadata": {
    "ExecuteTime": {
     "end_time": "2023-04-10T18:53:42.780777Z",
     "start_time": "2023-04-10T18:53:42.778038Z"
    },
    "tags": []
   },
   "outputs": [],
   "source": [
    "import numpy as np\n",
    "import spatialdata as sd\n",
    "\n",
    "from napari_spatialdata import Interactive"
   ]
  },
  {
   "cell_type": "code",
   "execution_count": null,
   "id": "8938ea12",
   "metadata": {},
   "outputs": [],
   "source": [
    "import squidpy as sq\n",
    "import scanpy as sc"
   ]
  },
  {
   "cell_type": "code",
   "execution_count": null,
   "id": "74cb18bf",
   "metadata": {
    "ExecuteTime": {
     "end_time": "2023-04-10T16:39:12.804097Z",
     "start_time": "2023-04-10T16:39:09.756352Z"
    },
    "tags": []
   },
   "outputs": [],
   "source": [
    "xenium_sdata = sd.read_zarr(\"data/xenium/data.zarr/\")\n",
    "xenium_sdata"
   ]
  },
  {
   "cell_type": "code",
   "execution_count": null,
   "id": "125df5ef",
   "metadata": {},
   "outputs": [],
   "source": [
    "xenium_sdata"
   ]
  },
  {
   "cell_type": "code",
   "execution_count": null,
   "id": "53b923aa",
   "metadata": {
    "ExecuteTime": {
     "end_time": "2023-04-10T16:39:26.103792Z",
     "start_time": "2023-04-10T16:39:25.844959Z"
    },
    "tags": []
   },
   "outputs": [],
   "source": [
    "visium_sdata = sd.read_zarr(\"data/visium/data.zarr/\")\n",
    "visium_sdata"
   ]
  },
  {
   "cell_type": "code",
   "execution_count": null,
   "id": "6dcf6e22",
   "metadata": {},
   "outputs": [],
   "source": []
  },
  {
   "attachments": {},
   "cell_type": "markdown",
   "id": "2fa12f3a",
   "metadata": {},
   "source": [
    "Let's visualize the data with napari.\n",
    "\n",
    "*Note: we are working with the napari developers to improve performance when visualizing large collections of geometries. For the sake of this example let's just show the Xenium and Visium images.*"
   ]
  },
  {
   "attachments": {},
   "cell_type": "markdown",
   "id": "0ec2165b",
   "metadata": {},
   "source": [
    "Here is a screenshot of the napari viewer. The images are not spatially aligned."
   ]
  },
  {
   "attachments": {},
   "cell_type": "markdown",
   "id": "f87c30be-9aa7-4d89-92f6-0427a4ae3f28",
   "metadata": {},
   "source": [
    "![](attachments/landmarks0.png)"
   ]
  },
  {
   "attachments": {},
   "cell_type": "markdown",
   "id": "dd50e8fe",
   "metadata": {},
   "source": [
    "## Adding landmark annotations\n",
    "\n",
    "Let's add some landmarks annotations using napari. We will add 3 landmarks to the Visium image to mark recognizable anatomical structures. We will then add, 3 landmarks to the Xenium image to the corresponding anatomical structures, in the same order. One can add more than 3 landmarks per image, as long as the order match between the images.\n",
    "\n",
    "This is the procedure to annotate and save the landmark locations (shown in the GIF):\n",
    "1. open `napari` with `Interactive()` from `napari_spatialdata`\n",
    "2. create a new Points layer in napari\n",
    "3. (optional) rename the layer\n",
    "4. (optional) change the color and points size for easier visualization\n",
    "5. click to add the annotation point\n",
    "6. (optional) use the `napari` functions to move/delete points\n",
    "7. save the annotation to the `SpatialData` object by pressing `Shift + E` (if you called `Interactive()` passing multiple `SpatialData` objects, the annotations will be saved to one of them).\n"
   ]
  },
  {
   "attachments": {},
   "cell_type": "markdown",
   "id": "de40a8c6-4e84-4595-816a-2f442f5be320",
   "metadata": {
    "tags": []
   },
   "source": [
    "![](attachments/landmarks1.gif)"
   ]
  },
  {
   "attachments": {},
   "cell_type": "markdown",
   "id": "5890a6dc",
   "metadata": {},
   "source": [
    "For reproducibility, we hardcoded in this notebook the landmark annotations for the Visium and Xenium data. We will add them to the respective `SpatialData` objects, both in-memory and on-disk, as if they were were saved with napari."
   ]
  },
  {
   "cell_type": "code",
   "execution_count": null,
   "id": "9d6ba021",
   "metadata": {
    "ExecuteTime": {
     "end_time": "2023-04-10T18:56:53.392894Z",
     "start_time": "2023-04-10T18:56:53.353994Z"
    },
    "tags": []
   },
   "outputs": [],
   "source": [
    "from spatialdata.models import ShapesModel\n",
    "\n",
    "visium_landmarks = ShapesModel.parse(\n",
    "    np.array([[10556.699, 7829.764], [13959.155, 13522.025], [10621.200, 17392.116]]), geometry=0, radius=500\n",
    ")\n",
    "visium_sdata.add_shapes(\"visium_landmarks\", visium_landmarks, overwrite=True)\n",
    "\n",
    "xenium_landmarks = ShapesModel.parse(\n",
    "    np.array([[9438.385, 13933.017], [24847.866, 5948.002], [34082.584, 15234.235]]), geometry=0, radius=500\n",
    ")\n",
    "xenium_sdata.add_shapes(\"xenium_landmarks\", xenium_landmarks, overwrite=True)"
   ]
  },
  {
   "attachments": {},
   "cell_type": "markdown",
   "id": "b2b382d7",
   "metadata": {},
   "source": [
    "## Finding the affine similarity transformation\n",
    "\n",
    "### Aligning the images\n",
    "\n",
    "We will now use the landmarks to find a similarity affine transformations that maps the Visium image onto the Xenium one."
   ]
  },
  {
   "cell_type": "code",
   "execution_count": null,
   "id": "d8f6dff4-ff07-495d-b29f-1e20e3f49d84",
   "metadata": {
    "ExecuteTime": {
     "end_time": "2023-04-10T19:09:31.490570Z",
     "start_time": "2023-04-10T19:09:31.453640Z"
    },
    "tags": []
   },
   "outputs": [],
   "source": [
    "from spatialdata.transformations import (\n",
    "    align_elements_using_landmarks,\n",
    "    get_transformation_between_landmarks,\n",
    ")\n",
    "\n",
    "affine = get_transformation_between_landmarks(\n",
    "    references_coords=xenium_sdata[\"xenium_landmarks\"], moving_coords=visium_sdata[\"visium_landmarks\"]\n",
    ")\n",
    "affine"
   ]
  },
  {
   "attachments": {},
   "cell_type": "markdown",
   "id": "5793e680",
   "metadata": {},
   "source": [
    "To apply the transformation to the Visium data, we will use the `align_elements_using_landmarks` function. This function internally calls `get_transformation_between_landmarks` and adds the transformation to the `SpatialData` object. It then returns the same affine matrix.\n",
    "\n",
    "More specifically, we will align the image `CytAssist_FFPE_Human_Breast_Cancer_full_image` from the Visium data onto the `morphology_mip` image from the Xenium data. Both images live in the `\"global\"` coordinate system (you can see this information by printing `xenium_sdata` and `visium_sdata`). The images are not aligned in the `\"global\"` coordinate system, and we want them to be aligned in a new coordinate system called `\"aligned\"`."
   ]
  },
  {
   "cell_type": "code",
   "execution_count": null,
   "id": "e71718a2",
   "metadata": {
    "collapsed": false,
    "jupyter": {
     "outputs_hidden": false
    },
    "tags": []
   },
   "outputs": [],
   "source": [
    "affine = align_elements_using_landmarks(\n",
    "    references_coords=xenium_sdata[\"xenium_landmarks\"],\n",
    "    moving_coords=visium_sdata[\"visium_landmarks\"],\n",
    "    reference_element=xenium_sdata[\"morphology_mip\"],\n",
    "    moving_element=visium_sdata[\"CytAssist_FFPE_Human_Breast_Cancer_full_image\"],\n",
    "    reference_coordinate_system=\"global\",\n",
    "    moving_coordinate_system=\"global\",\n",
    "    new_coordinate_system=\"aligned\",\n",
    ")\n",
    "affine"
   ]
  },
  {
   "attachments": {},
   "cell_type": "markdown",
   "id": "915cc3a2-47e5-4ec7-ac6c-8526dcbe7f6b",
   "metadata": {},
   "source": [
    "Now the Visium and the Xenium images are aligned in the `aligned` coordinate system via an affine transformation which rotates, scales and translates the data. We can see this in napari."
   ]
  },
  {
   "cell_type": "code",
   "execution_count": null,
   "id": "fc8447f9-8fa8-4ae5-80a7-1dec18840a9b",
   "metadata": {
    "tags": []
   },
   "outputs": [],
   "source": [
    "# Interactive([visium_sdata, xenium_sdata])"
   ]
  },
  {
   "attachments": {},
   "cell_type": "markdown",
   "id": "f49d8442-0501-4a9a-965e-c86040c33758",
   "metadata": {
    "tags": []
   },
   "source": [
    "![](attachments/landmarks2.gif)"
   ]
  },
  {
   "attachments": {},
   "cell_type": "markdown",
   "id": "2ac5e715-84f5-4457-ac4a-e1addd9fb355",
   "metadata": {},
   "source": [
    "Note: the above operation doesn't modify the data, but it just modifies the alignment metadata which define how elements are positioned inside coordinate system. Both images are mapped to the `global` coordinate system (in which they are not aligned) and in the `aligned` coordinate system, where they overlap. In napari you can choose which coordinate system to visualize."
   ]
  },
  {
   "attachments": {},
   "cell_type": "markdown",
   "id": "d657aa19-8443-447c-828c-b91b5cb6cf75",
   "metadata": {
    "tags": []
   },
   "source": [
    "![](attachments/landmarks3.gif)"
   ]
  },
  {
   "attachments": {},
   "cell_type": "markdown",
   "id": "0d318e03-8c04-4cc3-9da9-0e56119def9f",
   "metadata": {},
   "source": [
    "### Aligning the rest of the elements\n",
    "\n",
    "So far we mapped the Visium image onto the Xenium image in the `aligned` coordinate system. The rest of the elements are still not aligned. To correct for this we will append the affine transformation calculated above to each transformation for each elements.\n",
    "\n",
    "*Note: this handling of transformation will become more ergonomics in the next code release, removing the need to manually append the transformation as we are doing below. We will update this notebook with the new approach.*"
   ]
  },
  {
   "cell_type": "code",
   "execution_count": null,
   "id": "5c442fdb-94a9-488c-8d87-cfcc109f9388",
   "metadata": {
    "tags": []
   },
   "outputs": [],
   "source": [
    "from spatialdata import SpatialData\n",
    "from spatialdata.transformations import (\n",
    "    BaseTransformation,\n",
    "    Sequence,\n",
    "    get_transformation,\n",
    "    set_transformation,\n",
    ")\n",
    "\n",
    "\n",
    "def postpone_transformation(\n",
    "    sdata: SpatialData,\n",
    "    transformation: BaseTransformation,\n",
    "    source_coordinate_system: str,\n",
    "    target_coordinate_system: str,\n",
    "):\n",
    "    for element_type, element_name, element in sdata._gen_elements():\n",
    "        old_transformations = get_transformation(element, get_all=True)\n",
    "        if source_coordinate_system in old_transformations:\n",
    "            old_transformation = old_transformations[source_coordinate_system]\n",
    "            sequence = Sequence([old_transformation, transformation])\n",
    "            set_transformation(element, sequence, target_coordinate_system)\n",
    "\n",
    "\n",
    "postpone_transformation(\n",
    "    sdata=visium_sdata,\n",
    "    transformation=affine,\n",
    "    source_coordinate_system=\"global\",\n",
    "    target_coordinate_system=\"aligned\",\n",
    ")"
   ]
  },
  {
   "attachments": {},
   "cell_type": "markdown",
   "id": "1328673d-0c87-4b29-b6d7-d7609b96d394",
   "metadata": {},
   "source": [
    "Let's visualize the result of the alignment with napari."
   ]
  },
  {
   "cell_type": "code",
   "execution_count": null,
   "id": "c7d0e066-2373-4608-a03c-ff91064c79aa",
   "metadata": {
    "tags": []
   },
   "outputs": [],
   "source": [
    "# Interactive([visium_sdata, xenium_sdata])"
   ]
  },
  {
   "attachments": {},
   "cell_type": "markdown",
   "id": "d6b443cd-9f35-45f8-9f55-9ec108b0b1d9",
   "metadata": {
    "tags": []
   },
   "source": [
    "![](attachments/landmarks4.png)"
   ]
  },
  {
   "attachments": {},
   "cell_type": "markdown",
   "id": "be9277db",
   "metadata": {},
   "source": [
    "### Saving the alignment back to Zarr\n"
   ]
  },
  {
   "attachments": {},
   "cell_type": "markdown",
   "id": "2e98374c-85cd-45ad-ac62-b2bc075c9631",
   "metadata": {},
   "source": [
    "We will now save the transformations to disk. Notice that this is a lightweight operation because we are just mofiying the objects metadata, not transforming the actual data. This is useful when dealing with large images and when one may need to reiterate multiple steps of landmark-based alignment in order to improve the spatial agreement of the alignment."
   ]
  },
  {
   "cell_type": "code",
   "execution_count": null,
   "id": "d351580a",
   "metadata": {},
   "outputs": [],
   "source": []
  },
  {
   "cell_type": "code",
   "execution_count": null,
   "id": "474410bd-2d02-45c1-b073-eba1152ab615",
   "metadata": {
    "tags": []
   },
   "outputs": [],
   "source": [
    "from spatialdata import save_transformations\n",
    "\n",
    "save_transformations(visium_sdata)\n",
    "save_transformations(xenium_sdata)"
   ]
  },
  {
   "attachments": {},
   "cell_type": "markdown",
   "id": "1a2046ae",
   "metadata": {},
   "source": [
    "SET!"
   ]
  },
  {
   "cell_type": "code",
   "execution_count": null,
   "id": "9f2bf35b",
   "metadata": {},
   "outputs": [],
   "source": [
    "set_transformation(visium_sdata.shapes['CytAssist_FFPE_Human_Breast_Cancer'], affine, 'aligned')"
   ]
  },
  {
   "cell_type": "code",
   "execution_count": null,
   "id": "24ee9409",
   "metadata": {},
   "outputs": [],
   "source": [
    "visium_sdata = visium_sdata.transform_to_coordinate_system('aligned')"
   ]
  },
  {
   "cell_type": "code",
   "execution_count": null,
   "id": "881575ac",
   "metadata": {},
   "outputs": [],
   "source": [
    "geometry = visium_sdata.shapes['CytAssist_FFPE_Human_Breast_Cancer']['geometry']"
   ]
  },
  {
   "cell_type": "code",
   "execution_count": null,
   "id": "cad51b70",
   "metadata": {},
   "outputs": [],
   "source": [
    "size = visium_sdata.shapes['CytAssist_FFPE_Human_Breast_Cancer']['radius'].values[0]"
   ]
  },
  {
   "cell_type": "code",
   "execution_count": null,
   "metadata": {},
   "outputs": [],
   "source": [
    "coordinates = np.array([geometry.x, geometry.y]).T"
   ]
  },
  {
   "cell_type": "code",
   "execution_count": null,
   "id": "709d62b4",
   "metadata": {},
   "outputs": [],
   "source": [
    "visium_sdata.table.obsm['spatial'] = coordinates"
   ]
  },
  {
   "cell_type": "code",
   "execution_count": null,
   "id": "4fe72bdf",
   "metadata": {},
   "outputs": [],
   "source": []
  },
  {
   "attachments": {},
   "cell_type": "markdown",
   "id": "c14b9e70",
   "metadata": {},
   "source": [
    "Process"
   ]
  },
  {
   "cell_type": "code",
   "execution_count": null,
   "id": "622c4656",
   "metadata": {},
   "outputs": [],
   "source": [
    "sc.pp.filter_cells(visium_sdata.table, min_genes=200)\n",
    "sc.pp.filter_genes(visium_sdata.table, min_cells=3)\n",
    "sc.pp.normalize_total(visium_sdata.table)\n",
    "sc.pp.log1p(visium_sdata.table)\n",
    "# sc.pp.pca(visium_sdata.table)\n",
    "# sc.pp.neighbors(visium_sdata.table)"
   ]
  },
  {
   "cell_type": "code",
   "execution_count": null,
   "id": "b4423388",
   "metadata": {},
   "outputs": [],
   "source": []
  },
  {
   "cell_type": "code",
   "execution_count": null,
   "id": "d835564a",
   "metadata": {},
   "outputs": [],
   "source": [
    "sq.pl.spatial_scatter(visium_sdata.table, color=\"FOXA1\", img=False, size=size)"
   ]
  },
  {
   "cell_type": "code",
   "execution_count": null,
   "id": "b289cdb3",
   "metadata": {},
   "outputs": [],
   "source": [
    "sc.pp.filter_cells(xenium_sdata.table, min_genes=10)\n",
    "sc.pp.filter_genes(xenium_sdata.table, min_cells=3)\n",
    "sc.pp.normalize_total(xenium_sdata.table)\n",
    "sc.pp.log1p(xenium_sdata.table)"
   ]
  },
  {
   "cell_type": "code",
   "execution_count": null,
   "id": "9a4363b3",
   "metadata": {},
   "outputs": [],
   "source": [
    "sq.pl.spatial_scatter(xenium_sdata.table, shape=None, color=\"FOXA1\", img=False)"
   ]
  },
  {
   "cell_type": "code",
   "execution_count": null,
   "id": "fd9ef71f",
   "metadata": {},
   "outputs": [],
   "source": []
  },
  {
   "cell_type": "code",
   "execution_count": null,
   "id": "39d240be",
   "metadata": {},
   "outputs": [],
   "source": [
    "# only keep genes that are found in both datasets\n",
    "common_genes = np.intersect1d(visium_sdata.table.var_names, xenium_sdata.table.var_names)\n",
    "visium = visium_sdata.table[:, common_genes].copy()\n",
    "xenium = xenium_sdata.table[:, common_genes].copy()"
   ]
  },
  {
   "cell_type": "code",
   "execution_count": null,
   "id": "8ccfbfd8",
   "metadata": {},
   "outputs": [],
   "source": []
  },
  {
   "cell_type": "code",
   "execution_count": null,
   "id": "3c2833ef",
   "metadata": {},
   "outputs": [],
   "source": [
    "from mudata import MuData"
   ]
  },
  {
   "cell_type": "code",
   "execution_count": null,
   "id": "b47e6640",
   "metadata": {},
   "outputs": [],
   "source": [
    "import liana as li"
   ]
  },
  {
   "cell_type": "code",
   "execution_count": null,
   "id": "82a3d8e1",
   "metadata": {},
   "outputs": [],
   "source": [
    "visium = visium[~np.isnan(visium.obsm['spatial']).any(axis=1)]"
   ]
  },
  {
   "cell_type": "code",
   "execution_count": null,
   "id": "b7b33a63",
   "metadata": {},
   "outputs": [],
   "source": [
    "mdata = MuData({\"intra\":visium, \"extra\":xenium})"
   ]
  },
  {
   "cell_type": "code",
   "execution_count": null,
   "id": "f9df39a0",
   "metadata": {},
   "outputs": [],
   "source": [
    "mdata"
   ]
  },
  {
   "cell_type": "code",
   "execution_count": null,
   "id": "430bed5d",
   "metadata": {},
   "outputs": [],
   "source": [
    "p, df = li.ut.query_bandwidth(coordinates=visium.obsm['spatial'], interval_n=20, start=0, end=1000)"
   ]
  },
  {
   "cell_type": "code",
   "execution_count": null,
   "id": "58c32005",
   "metadata": {},
   "outputs": [],
   "source": [
    "p"
   ]
  },
  {
   "cell_type": "code",
   "execution_count": null,
   "id": "969c12a9",
   "metadata": {},
   "outputs": [],
   "source": []
  },
  {
   "cell_type": "code",
   "execution_count": null,
   "id": "15687d9a",
   "metadata": {},
   "outputs": [],
   "source": [
    "p, df = li.ut.query_bandwidth(coordinates=visium.obsm['spatial'], reference=xenium.obsm['spatial'], interval_n=20, start=0, end=1500)"
   ]
  },
  {
   "cell_type": "code",
   "execution_count": null,
   "id": "f02e6820",
   "metadata": {},
   "outputs": [],
   "source": [
    "p"
   ]
  },
  {
   "cell_type": "code",
   "execution_count": null,
   "id": "300446c2",
   "metadata": {},
   "outputs": [],
   "source": []
  },
  {
   "cell_type": "code",
   "execution_count": null,
   "id": "49a07877",
   "metadata": {},
   "outputs": [],
   "source": [
    "li.ut.spatial_neighbors(xenium, bandwidth=1500, cutoff=0.1, spatial_key=\"spatial\", reference=visium.obsm['spatial'], max_neighbours=500, set_diag=False, standardize=False)"
   ]
  },
  {
   "cell_type": "code",
   "execution_count": null,
   "id": "4afc8c80",
   "metadata": {},
   "outputs": [],
   "source": [
    "misty = li.mt.MistyData(mdata, enforce_obs=False, obs=mdata.obs)"
   ]
  },
  {
   "cell_type": "code",
   "execution_count": null,
   "id": "54588c8d",
   "metadata": {},
   "outputs": [],
   "source": [
    "misty.mod['intra'] = misty.mod['intra'][:,0:25]"
   ]
  },
  {
   "cell_type": "code",
   "execution_count": null,
   "id": "62d0b22f",
   "metadata": {},
   "outputs": [],
   "source": [
    "misty"
   ]
  },
  {
   "cell_type": "code",
   "execution_count": null,
   "id": "b4068dc7",
   "metadata": {},
   "outputs": [],
   "source": [
    "misty(model='linear', verbose=True, bypass_intra=True)"
   ]
  },
  {
   "cell_type": "code",
   "execution_count": null,
   "id": "99c7cb80",
   "metadata": {},
   "outputs": [],
   "source": [
    "misty.uns['target_metrics'].sort_values(\"multi_R2\")"
   ]
  },
  {
   "cell_type": "code",
   "execution_count": null,
   "id": "502f56a7",
   "metadata": {},
   "outputs": [],
   "source": []
  }
 ],
 "metadata": {
  "kernelspec": {
   "display_name": "Python 3 (ipykernel)",
   "language": "python",
   "name": "python3"
  },
  "language_info": {
   "codemirror_mode": {
    "name": "ipython",
    "version": 3
   },
   "file_extension": ".py",
   "mimetype": "text/x-python",
   "name": "python",
   "nbconvert_exporter": "python",
   "pygments_lexer": "ipython3",
   "version": "3.10.12"
  },
  "vscode": {
   "interpreter": {
    "hash": "830f4db94a7e048b072d559f6337879e869a5f16cc1fbf14c7dab0d06a5037ae"
   }
  }
 },
 "nbformat": 4,
 "nbformat_minor": 5
}
